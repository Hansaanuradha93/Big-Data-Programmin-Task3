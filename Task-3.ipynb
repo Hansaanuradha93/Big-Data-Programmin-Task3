{
 "cells": [
  {
   "cell_type": "markdown",
   "metadata": {},
   "source": [
    "# 1. Data Preprocessing \n",
    "\n",
    "#### Load the raw dataset\n",
    "\n",
    "When loading the dataset skip the first row since it contains metadata that is not valuable for the later steps. Let's saved the new dataframe to a csv file then."
   ]
  },
  {
   "cell_type": "code",
   "execution_count": 274,
   "metadata": {},
   "outputs": [],
   "source": [
    "import pandas as pd\n",
    "\n",
    "# Dataset file path\n",
    "inputPath = 'data/dataset.csv'\n",
    "\n",
    "# Read the dataset, skip the first row which contains metadata\n",
    "data = pd.read_csv(inputPath, sep=',', skiprows=1) \n",
    "\n",
    "# Save the new dataset\n",
    "outputPath = \"data/dataset-version-1.csv\"\n",
    "data.to_csv(outputPath, index=False)"
   ]
  },
  {
   "cell_type": "markdown",
   "metadata": {},
   "source": [
    "#### Load the newly created dataset-version-1.csv to a spark session.\n",
    "\n",
    "All the next preprocessing tasks will be executed with Spark."
   ]
  },
  {
   "cell_type": "code",
   "execution_count": 275,
   "metadata": {},
   "outputs": [
    {
     "name": "stdout",
     "output_type": "stream",
     "text": [
      "+-------+--------+--------+--------------------+-------------------+------+----------+-------------+-------------------------+-----------------+---------------+---------------------+----------+---------------+-------------------------+-----------------+---------------+---------------------+----------+------------+-------------------------+-----------------+---------------+---------------------+-----+-----------+--------------------+\n",
      "|EVENTID|EVENTNUM| GAME_ID|     HOMEDESCRIPTION|       PCTIMESTRING|PERIOD|PLAYER1_ID| PLAYER1_NAME|PLAYER1_TEAM_ABBREVIATION|PLAYER1_TEAM_CITY|PLAYER1_TEAM_ID|PLAYER1_TEAM_NICKNAME|PLAYER2_ID|   PLAYER2_NAME|PLAYER2_TEAM_ABBREVIATION|PLAYER2_TEAM_CITY|PLAYER2_TEAM_ID|PLAYER2_TEAM_NICKNAME|PLAYER3_ID|PLAYER3_NAME|PLAYER3_TEAM_ABBREVIATION|PLAYER3_TEAM_CITY|PLAYER3_TEAM_ID|PLAYER3_TEAM_NICKNAME|SCORE|SCOREMARGIN|  VISITORDESCRIPTION|\n",
      "+-------+--------+--------+--------------------+-------------------+------+----------+-------------+-------------------------+-----------------+---------------+---------------------+----------+---------------+-------------------------+-----------------+---------------+---------------------+----------+------------+-------------------------+-----------------+---------------+---------------------+-----+-----------+--------------------+\n",
      "|      0|       0|20001116|                NULL|2024-12-17 12:00:00|     1|         0|         NULL|                     NULL|             NULL|           NULL|                 NULL|         0|           NULL|                     NULL|             NULL|           NULL|                 NULL|         0|        NULL|                     NULL|             NULL|           NULL|                 NULL| NULL|       NULL|                NULL|\n",
      "|      1|       1|20001116|Jump Ball Grant v...|2024-12-17 12:00:00|     1|       258|  Brian Grant|                      MIA|            Miami|  1.610612748E9|                 Heat|        87|Dikembe Mutombo|                      PHI|     Philadelphia|  1.610612755E9|                76ers|       238| Tyrone Hill|                      PHI|     Philadelphia|  1.610612755E9|                76ers| NULL|       NULL|                NULL|\n",
      "|      2|       2|20001116|                NULL|2024-12-17 11:45:00|     1|       947|Allen Iverson|                      PHI|     Philadelphia|  1.610612755E9|                76ers|         0|           NULL|                     NULL|             NULL|           NULL|                 NULL|         0|        NULL|                     NULL|             NULL|           NULL|                 NULL|2 - 0|         -2|Iverson 21' Jump ...|\n",
      "|      3|       3|20001116|                NULL|2024-12-17 11:28:00|     1|       238|  Tyrone Hill|                      PHI|     Philadelphia|  1.610612755E9|                76ers|         0|           NULL|                     NULL|             NULL|           NULL|                 NULL|         0|        NULL|                     NULL|             NULL|           NULL|                 NULL| NULL|       NULL| Hill P.FOUL (P1.T1)|\n",
      "|      4|       4|20001116|Mason 17' Jump Sh...|2024-12-17 11:19:00|     1|       193|Anthony Mason|                      MIA|            Miami|  1.610612748E9|                 Heat|         0|           NULL|                     NULL|             NULL|           NULL|                 NULL|         0|        NULL|                     NULL|             NULL|           NULL|                 NULL|2 - 2|        TIE|                NULL|\n",
      "+-------+--------+--------+--------------------+-------------------+------+----------+-------------+-------------------------+-----------------+---------------+---------------------+----------+---------------+-------------------------+-----------------+---------------+---------------------+----------+------------+-------------------------+-----------------+---------------+---------------------+-----+-----------+--------------------+\n",
      "only showing top 5 rows\n",
      "\n"
     ]
    },
    {
     "name": "stderr",
     "output_type": "stream",
     "text": [
      "                                                                                \r"
     ]
    }
   ],
   "source": [
    "from pyspark.sql import SparkSession\n",
    "from pyspark.sql.functions import col\n",
    "\n",
    "# New Spark Session\n",
    "spark = SparkSession.builder \\\n",
    "    .appName(\"NBA Player Performance Prediction\") \\\n",
    "    .getOrCreate()\n",
    "\n",
    "# Load the dataset\n",
    "inputPath = \"data/dataset-version-1.csv\"\n",
    "data = spark.read.csv(inputPath, header=True, inferSchema=True)\n",
    "\n",
    "# Show the dataset\n",
    "data.show(5)"
   ]
  },
  {
   "cell_type": "markdown",
   "metadata": {},
   "source": [
    "#### Find the Home team and Visitor team\n",
    "\n",
    "We need to find the Home team name and Visitor team name. This is how we are going to do that,\n",
    "\n",
    "1. Group the result by GAME_ID column.\n",
    "2. Find the EVENTNUM column for each GAME_ID. The value in the EVENTNUM column should be 1. Find that row.\n",
    "3. Go through that row and find the value in PLAYER1_TEAM_NICKNAME. That is the Home team name.\n",
    "4. Go through the same row and find the value in PLAYER2_TEAM_NICKNAME. That is the Visitor team name.\n",
    "5. Add these new columns for each row in the dataset.\n",
    "6. Perform that for every GAME_ID."
   ]
  },
  {
   "cell_type": "code",
   "execution_count": 276,
   "metadata": {},
   "outputs": [
    {
     "name": "stdout",
     "output_type": "stream",
     "text": [
      "+--------+-------+--------+--------------------+-------------------+------+----------+-------------+-------------------------+-----------------+---------------+---------------------+----------+---------------+-------------------------+-----------------+---------------+---------------------+----------+------------+-------------------------+-----------------+---------------+---------------------+-----+-----------+--------------------+------------------+---------------------+\n",
      "| GAME_ID|EVENTID|EVENTNUM|     HOMEDESCRIPTION|       PCTIMESTRING|PERIOD|PLAYER1_ID| PLAYER1_NAME|PLAYER1_TEAM_ABBREVIATION|PLAYER1_TEAM_CITY|PLAYER1_TEAM_ID|PLAYER1_TEAM_NICKNAME|PLAYER2_ID|   PLAYER2_NAME|PLAYER2_TEAM_ABBREVIATION|PLAYER2_TEAM_CITY|PLAYER2_TEAM_ID|PLAYER2_TEAM_NICKNAME|PLAYER3_ID|PLAYER3_NAME|PLAYER3_TEAM_ABBREVIATION|PLAYER3_TEAM_CITY|PLAYER3_TEAM_ID|PLAYER3_TEAM_NICKNAME|SCORE|SCOREMARGIN|  VISITORDESCRIPTION|HOME_TEAM_NICKNAME|VISITOR_TEAM_NICKNAME|\n",
      "+--------+-------+--------+--------------------+-------------------+------+----------+-------------+-------------------------+-----------------+---------------+---------------------+----------+---------------+-------------------------+-----------------+---------------+---------------------+----------+------------+-------------------------+-----------------+---------------+---------------------+-----+-----------+--------------------+------------------+---------------------+\n",
      "|20001116|      0|       0|                NULL|2024-12-17 12:00:00|     1|         0|         NULL|                     NULL|             NULL|           NULL|                 NULL|         0|           NULL|                     NULL|             NULL|           NULL|                 NULL|         0|        NULL|                     NULL|             NULL|           NULL|                 NULL| NULL|       NULL|                NULL|              Heat|                76ers|\n",
      "|20001116|      1|       1|Jump Ball Grant v...|2024-12-17 12:00:00|     1|       258|  Brian Grant|                      MIA|            Miami|  1.610612748E9|                 Heat|        87|Dikembe Mutombo|                      PHI|     Philadelphia|  1.610612755E9|                76ers|       238| Tyrone Hill|                      PHI|     Philadelphia|  1.610612755E9|                76ers| NULL|       NULL|                NULL|              Heat|                76ers|\n",
      "|20001116|      2|       2|                NULL|2024-12-17 11:45:00|     1|       947|Allen Iverson|                      PHI|     Philadelphia|  1.610612755E9|                76ers|         0|           NULL|                     NULL|             NULL|           NULL|                 NULL|         0|        NULL|                     NULL|             NULL|           NULL|                 NULL|2 - 0|         -2|Iverson 21' Jump ...|              Heat|                76ers|\n",
      "|20001116|      3|       3|                NULL|2024-12-17 11:28:00|     1|       238|  Tyrone Hill|                      PHI|     Philadelphia|  1.610612755E9|                76ers|         0|           NULL|                     NULL|             NULL|           NULL|                 NULL|         0|        NULL|                     NULL|             NULL|           NULL|                 NULL| NULL|       NULL| Hill P.FOUL (P1.T1)|              Heat|                76ers|\n",
      "|20001116|      4|       4|Mason 17' Jump Sh...|2024-12-17 11:19:00|     1|       193|Anthony Mason|                      MIA|            Miami|  1.610612748E9|                 Heat|         0|           NULL|                     NULL|             NULL|           NULL|                 NULL|         0|        NULL|                     NULL|             NULL|           NULL|                 NULL|2 - 2|        TIE|                NULL|              Heat|                76ers|\n",
      "+--------+-------+--------+--------------------+-------------------+------+----------+-------------+-------------------------+-----------------+---------------+---------------------+----------+---------------+-------------------------+-----------------+---------------+---------------------+----------+------------+-------------------------+-----------------+---------------+---------------------+-----+-----------+--------------------+------------------+---------------------+\n",
      "only showing top 5 rows\n",
      "\n"
     ]
    }
   ],
   "source": [
    "# Step 1: Filter rows where EVENTNUM = 1\n",
    "eventnum_1_rows = data.filter(col(\"EVENTNUM\") == 1)\n",
    "\n",
    "# Step 2: Select the HOME_TEAM and VISITOR_TEAM for each GAME_ID\n",
    "home_and_visitor_teams = eventnum_1_rows.select(\n",
    "    col(\"GAME_ID\"),\n",
    "    col(\"PLAYER1_TEAM_NICKNAME\").alias(\"HOME_TEAM_NICKNAME\"),\n",
    "    col(\"PLAYER2_TEAM_NICKNAME\").alias(\"VISITOR_TEAM_NICKNAME\")\n",
    ")\n",
    "\n",
    "# Step 3: Join back to the original dataset to add the new columns\n",
    "data = data.join(home_and_visitor_teams, \"GAME_ID\", \"left\")\n",
    "\n",
    "# Show the final dataset with new columns\n",
    "data.show(5)"
   ]
  },
  {
   "cell_type": "markdown",
   "metadata": {},
   "source": [
    "Now we have identified the Home team and the Visitor team. Let's do some more cleaning now. After going through the dataset, we can see that there are many missing values. We will be handling those missing values in the next steps.\n",
    "\n",
    "#### Drop rows where \"SCORE\" column is empty\n",
    "\n",
    "Before executing any data cleaning steps, we need to get an idea about the dimensions about this dataset. Therefore let's create a helper function to read the dimensions of the dataset. "
   ]
  },
  {
   "cell_type": "code",
   "execution_count": 277,
   "metadata": {},
   "outputs": [],
   "source": [
    "# Helper function to get the dimensions of a given dataset\n",
    "def show_dataset_dimensions(df, message):\n",
    "    \"\"\"\n",
    "    Displays the dimensions of a given dataframe along with a message.\n",
    "\n",
    "    Parameters:\n",
    "    - df : Dataframe\n",
    "    - message : Custom message\n",
    "    \"\"\"\n",
    "    # Get dimensions\n",
    "    num_rows = df.count()\n",
    "    num_columns = len(df.columns)\n",
    "\n",
    "    # Print dimensions\n",
    "    print(\"Dataset consists of\", num_rows, \"rows and\", num_columns, \"columns \", message)"
   ]
  },
  {
   "cell_type": "markdown",
   "metadata": {},
   "source": [
    "SCORE column is one of the most important columns in the dataset for the given task. Therefore we need to clean that column first. There are many missing values in this column, therefore we will remove all the rows where SCORE column is empty in the next steps. "
   ]
  },
  {
   "cell_type": "code",
   "execution_count": 278,
   "metadata": {},
   "outputs": [
    {
     "name": "stdout",
     "output_type": "stream",
     "text": [
      "Dataset consists of 537157 rows and 29 columns  before cleaning\n",
      "Dataset consists of 137590 rows and 29 columns  after cleaning\n"
     ]
    }
   ],
   "source": [
    "# Show the dimensions before cleaning\n",
    "show_dataset_dimensions(data, \"before cleaning\")\n",
    "\n",
    "# Remove rows where \"SCORE\" column is empty \n",
    "score_cleaned_data = data.filter(col('SCORE').isNotNull())\n",
    "\n",
    "# Show the dimensions after cleaning\n",
    "show_dataset_dimensions(score_cleaned_data, \"after cleaning\")"
   ]
  },
  {
   "cell_type": "markdown",
   "metadata": {},
   "source": [
    "We have 537,157 rows in the initial dataset. After performing the above cleaning step, we have 137,590 rows remaining with 27 columns.\n",
    "\n",
    "#### Process the SCORE coloumn further.\n",
    "\n",
    "Next let's process the \"SCORE\" coloumn. The score is saved the format like this: 13 - 10. If the score value does not follow this format, let's remove that row first. Then we can extract these scores to 2 different colomns saying \"HOME_SCORE\", and \"VISITOR_SCORE\". After that we can remove the \"SCORE\" column."
   ]
  },
  {
   "cell_type": "code",
   "execution_count": 279,
   "metadata": {},
   "outputs": [
    {
     "name": "stdout",
     "output_type": "stream",
     "text": [
      "+--------+-------+--------+--------------------+-------------------+------+----------+-------------+-------------------------+-----------------+---------------+---------------------+----------+---------------+-------------------------+-----------------+---------------+---------------------+----------+------------+-------------------------+-----------------+---------------+---------------------+-----------+--------------------+------------------+---------------------+----------+-------------+\n",
      "| GAME_ID|EVENTID|EVENTNUM|     HOMEDESCRIPTION|       PCTIMESTRING|PERIOD|PLAYER1_ID| PLAYER1_NAME|PLAYER1_TEAM_ABBREVIATION|PLAYER1_TEAM_CITY|PLAYER1_TEAM_ID|PLAYER1_TEAM_NICKNAME|PLAYER2_ID|   PLAYER2_NAME|PLAYER2_TEAM_ABBREVIATION|PLAYER2_TEAM_CITY|PLAYER2_TEAM_ID|PLAYER2_TEAM_NICKNAME|PLAYER3_ID|PLAYER3_NAME|PLAYER3_TEAM_ABBREVIATION|PLAYER3_TEAM_CITY|PLAYER3_TEAM_ID|PLAYER3_TEAM_NICKNAME|SCOREMARGIN|  VISITORDESCRIPTION|HOME_TEAM_NICKNAME|VISITOR_TEAM_NICKNAME|HOME_SCORE|VISITOR_SCORE|\n",
      "+--------+-------+--------+--------------------+-------------------+------+----------+-------------+-------------------------+-----------------+---------------+---------------------+----------+---------------+-------------------------+-----------------+---------------+---------------------+----------+------------+-------------------------+-----------------+---------------+---------------------+-----------+--------------------+------------------+---------------------+----------+-------------+\n",
      "|20001116|      2|       2|                NULL|2024-12-17 11:45:00|     1|       947|Allen Iverson|                      PHI|     Philadelphia|  1.610612755E9|                76ers|         0|           NULL|                     NULL|             NULL|           NULL|                 NULL|         0|        NULL|                     NULL|             NULL|           NULL|                 NULL|         -2|Iverson 21' Jump ...|              Heat|                76ers|         2|            0|\n",
      "|20001116|      4|       4|Mason 17' Jump Sh...|2024-12-17 11:19:00|     1|       193|Anthony Mason|                      MIA|            Miami|  1.610612748E9|                 Heat|         0|           NULL|                     NULL|             NULL|           NULL|                 NULL|         0|        NULL|                     NULL|             NULL|           NULL|                 NULL|        TIE|                NULL|              Heat|                76ers|         2|            2|\n",
      "|20001116|      9|       9|                NULL|2024-12-17 10:44:00|     1|       248| George Lynch|                      PHI|     Philadelphia|  1.610612755E9|                76ers|       727|      Eric Snow|                      PHI|     Philadelphia|  1.610612755E9|                76ers|         0|        NULL|                     NULL|             NULL|           NULL|                 NULL|         -2|Lynch  Layup (2 P...|              Heat|                76ers|         4|            2|\n",
      "|20001116|     19|      19|                NULL|2024-12-17 09:45:00|     1|       947|Allen Iverson|                      PHI|     Philadelphia|  1.610612755E9|                76ers|         0|           NULL|                     NULL|             NULL|           NULL|                 NULL|         0|        NULL|                     NULL|             NULL|           NULL|                 NULL|         -4|Iverson  Driving ...|              Heat|                76ers|         6|            2|\n",
      "|20001116|     23|      24|                NULL|2024-12-17 09:15:00|     1|       947|Allen Iverson|                      PHI|     Philadelphia|  1.610612755E9|                76ers|        87|Dikembe Mutombo|                      PHI|     Philadelphia|  1.610612755E9|                76ers|         0|        NULL|                     NULL|             NULL|           NULL|                 NULL|         -7|Iverson 24' 3PT J...|              Heat|                76ers|         9|            2|\n",
      "+--------+-------+--------+--------------------+-------------------+------+----------+-------------+-------------------------+-----------------+---------------+---------------------+----------+---------------+-------------------------+-----------------+---------------+---------------------+----------+------------+-------------------------+-----------------+---------------+---------------------+-----------+--------------------+------------------+---------------------+----------+-------------+\n",
      "only showing top 5 rows\n",
      "\n",
      "Dataset consists of 137590 rows and 29 columns  before cleaning\n",
      "Dataset consists of 137590 rows and 30 columns  after cleaning\n"
     ]
    }
   ],
   "source": [
    "from pyspark.sql.functions import col, regexp_extract\n",
    "\n",
    "# Remove rows where SCORE does not follow the \"number - number\" format\n",
    "valid_score_data = score_cleaned_data.filter(score_cleaned_data.SCORE.rlike(r\"^\\d+\\s*-\\s*\\d+$\"))\n",
    "\n",
    "# Extract scores into two separate columns: HOME_SCORE and VISITOR_SCORE\n",
    "score_processed_data = valid_score_data.withColumn(\"HOME_SCORE\", regexp_extract(col(\"SCORE\"), r\"^(\\d+)\\s*-\\s*\\d+$\", 1)) \\\n",
    "                                 .withColumn(\"VISITOR_SCORE\", regexp_extract(col(\"SCORE\"), r\"^\\d+\\s*-\\s*(\\d+)$\", 1))\n",
    "\n",
    "# Cast the extracted scores to integer\n",
    "score_processed_data = score_processed_data.withColumn(\"HOME_SCORE\", col(\"HOME_SCORE\").cast(\"integer\")) \\\n",
    "                               .withColumn(\"VISITOR_SCORE\", col(\"VISITOR_SCORE\").cast(\"integer\"))\n",
    "\n",
    "# Drop the original SCORE column\n",
    "score_processed_data = score_processed_data.drop(\"SCORE\")\n",
    "\n",
    "# Show the processed dataset\n",
    "score_processed_data.show(5)\n",
    "\n",
    "# Show the dimensions before cleaning\n",
    "show_dataset_dimensions(score_cleaned_data, \"before cleaning\")\n",
    "\n",
    "# Show the dimensions before cleaning\n",
    "show_dataset_dimensions(score_processed_data, \"after cleaning\")"
   ]
  },
  {
   "cell_type": "markdown",
   "metadata": {},
   "source": [
    "After that step, we have 137,590 rows and 30 columns remaining to work with.\n",
    "\n",
    "#### Identify valuable coloumns from the dataset.\n",
    "\n",
    "The next step is to extract the important coloumns in the dataset that are relevant for the task. After going through the dataset manually, below columns seems to be the valuable among others. Therefore will filter only these columns and proceed with them in the next steps."
   ]
  },
  {
   "cell_type": "code",
   "execution_count": 280,
   "metadata": {},
   "outputs": [
    {
     "name": "stdout",
     "output_type": "stream",
     "text": [
      "Dataset consists of 137590 rows and 20 columns  after cleaning\n",
      "+--------+--------------------+------+--------------------+----------+-------------+---------------------+---------------+----------+---------------+---------------------+---------------+----------+------------+---------------------+---------------+------------------+---------------------+----------+-------------+\n",
      "| GAME_ID|     HOMEDESCRIPTION|PERIOD|  VISITORDESCRIPTION|PLAYER1_ID| PLAYER1_NAME|PLAYER1_TEAM_NICKNAME|PLAYER1_TEAM_ID|PLAYER2_ID|   PLAYER2_NAME|PLAYER2_TEAM_NICKNAME|PLAYER2_TEAM_ID|PLAYER3_ID|PLAYER3_NAME|PLAYER3_TEAM_NICKNAME|PLAYER3_TEAM_ID|HOME_TEAM_NICKNAME|VISITOR_TEAM_NICKNAME|HOME_SCORE|VISITOR_SCORE|\n",
      "+--------+--------------------+------+--------------------+----------+-------------+---------------------+---------------+----------+---------------+---------------------+---------------+----------+------------+---------------------+---------------+------------------+---------------------+----------+-------------+\n",
      "|20001116|                NULL|     1|Iverson 21' Jump ...|       947|Allen Iverson|                76ers|  1.610612755E9|         0|           NULL|                 NULL|           NULL|         0|        NULL|                 NULL|           NULL|              Heat|                76ers|         2|            0|\n",
      "|20001116|Mason 17' Jump Sh...|     1|                NULL|       193|Anthony Mason|                 Heat|  1.610612748E9|         0|           NULL|                 NULL|           NULL|         0|        NULL|                 NULL|           NULL|              Heat|                76ers|         2|            2|\n",
      "|20001116|                NULL|     1|Lynch  Layup (2 P...|       248| George Lynch|                76ers|  1.610612755E9|       727|      Eric Snow|                76ers|  1.610612755E9|         0|        NULL|                 NULL|           NULL|              Heat|                76ers|         4|            2|\n",
      "|20001116|                NULL|     1|Iverson  Driving ...|       947|Allen Iverson|                76ers|  1.610612755E9|         0|           NULL|                 NULL|           NULL|         0|        NULL|                 NULL|           NULL|              Heat|                76ers|         6|            2|\n",
      "|20001116|                NULL|     1|Iverson 24' 3PT J...|       947|Allen Iverson|                76ers|  1.610612755E9|        87|Dikembe Mutombo|                76ers|  1.610612755E9|         0|        NULL|                 NULL|           NULL|              Heat|                76ers|         9|            2|\n",
      "+--------+--------------------+------+--------------------+----------+-------------+---------------------+---------------+----------+---------------+---------------------+---------------+----------+------------+---------------------+---------------+------------------+---------------------+----------+-------------+\n",
      "only showing top 5 rows\n",
      "\n"
     ]
    }
   ],
   "source": [
    "# Relevant columns selected\n",
    "selected_columns = [\n",
    "    'GAME_ID', 'HOMEDESCRIPTION', 'PERIOD', 'VISITORDESCRIPTION',\n",
    "    'PLAYER1_ID', 'PLAYER1_NAME', 'PLAYER1_TEAM_NICKNAME','PLAYER1_TEAM_ID', \n",
    "    'PLAYER2_ID', 'PLAYER2_NAME', 'PLAYER2_TEAM_NICKNAME', 'PLAYER2_TEAM_ID', \n",
    "    'PLAYER3_ID', 'PLAYER3_NAME', 'PLAYER3_TEAM_NICKNAME', 'PLAYER3_TEAM_ID',\n",
    "    'HOME_TEAM_NICKNAME', 'VISITOR_TEAM_NICKNAME', 'HOME_SCORE', 'VISITOR_SCORE',\n",
    "]\n",
    "\n",
    "# Dataset with relevant columns selected\n",
    "coloumn_cleaned_data = score_processed_data.select(*selected_columns)\n",
    "\n",
    "# Show the dimensions before cleaning\n",
    "show_dataset_dimensions(coloumn_cleaned_data, \"after cleaning\")\n",
    "\n",
    "# Show a sample of cleaned data\n",
    "coloumn_cleaned_data.show(5)"
   ]
  },
  {
   "cell_type": "markdown",
   "metadata": {},
   "source": [
    "After that step, we have 137,590 rows and 20 columns remaining to work with.\n",
    "\n",
    "#### Handle missing values in the coloumns.\n",
    "\n",
    "Let's identify the missing values in the dataset as the next step. Let's identify the columns where all values are empty, null or na. These columns will not help for our task. Therefore after identifying, we can remove them from the dataset."
   ]
  },
  {
   "cell_type": "code",
   "execution_count": 281,
   "metadata": {},
   "outputs": [],
   "source": [
    "from pyspark.sql.functions import col\n",
    "\n",
    "def drop_all_null_columns(dataframe):\n",
    "    \"\"\"\n",
    "    Identify columns in given dataframe where all values are null, 'NA', or empty strings\n",
    "    and remove those columns from the dataframe.\n",
    "\n",
    "    Parameters:\n",
    "    - dataframe : Dataframe\n",
    "\n",
    "    Returns:\n",
    "    - tuple\n",
    "        A tuple containing:\n",
    "        - The cleaned dataframe.\n",
    "        - List of column names that were removed\n",
    "\n",
    "    \"\"\"\n",
    "    # Count the number of null, 'na' or empty values in every column\n",
    "    null_counts = {\n",
    "        column: dataframe.filter(\n",
    "            (col(column).isNull()) | (col(column) == \"NA\") | (col(column) == \"\")\n",
    "        ).count()\n",
    "        for column in dataframe.columns\n",
    "    }\n",
    "\n",
    "    # Identify columns where all rows are null, 'na', or empty\n",
    "    all_null_columns = [column for column, null_count in null_counts.items() if null_count == dataframe.count()]\n",
    "\n",
    "    # Drop those columns\n",
    "    cleaned_data = dataframe.drop(*all_null_columns)\n",
    "\n",
    "    return cleaned_data, all_null_columns"
   ]
  },
  {
   "cell_type": "code",
   "execution_count": 282,
   "metadata": {},
   "outputs": [
    {
     "name": "stdout",
     "output_type": "stream",
     "text": [
      "Columns with all empty values: ['PLAYER3_NAME', 'PLAYER3_TEAM_NICKNAME', 'PLAYER3_TEAM_ID']\n",
      "Dataset consists of 137590 rows and 17 columns  after cleaning\n"
     ]
    }
   ],
   "source": [
    "# Cleaned data and list of columns to be dropped\n",
    "coloumn_cleaned_data, dropped_columns = drop_all_null_columns(coloumn_cleaned_data)\n",
    "\n",
    "# Print the columns that were dropped\n",
    "print(\"Columns with all empty values:\", dropped_columns)\n",
    "\n",
    "# Show the dimensions before cleaning\n",
    "show_dataset_dimensions(coloumn_cleaned_data, \"after cleaning\")"
   ]
  },
  {
   "cell_type": "markdown",
   "metadata": {},
   "source": [
    "As we can see below columns contains only null, na or empty values,\n",
    "\n",
    "* PLAYER3_NAME\n",
    "* PLAYER3_TEAM_NICKNAME\n",
    "* PLAYER3_TEAM_ID\n",
    "\n",
    "All above columns were dropped from the dataset. Before this cleaning process we had 17 columns remaining. Now we have 12 coloumns remaining in the dataset.\n",
    "\n",
    "Since most of the columns that are relevant to \"Player 3\" are dropped from the dataset, we can also remove the 'PLAYER3_ID' as well since only PLAYER3_ID column alone does not provide any valuable insights."
   ]
  },
  {
   "cell_type": "code",
   "execution_count": 283,
   "metadata": {},
   "outputs": [
    {
     "name": "stdout",
     "output_type": "stream",
     "text": [
      "Dataset consists of 137590 rows and 17 columns  before cleaning\n",
      "Dataset consists of 137590 rows and 16 columns  after cleaning\n",
      "+--------+--------------------+------+--------------------+----------+-------------+---------------------+---------------+----------+---------------+---------------------+---------------+------------------+---------------------+----------+-------------+\n",
      "| GAME_ID|     HOMEDESCRIPTION|PERIOD|  VISITORDESCRIPTION|PLAYER1_ID| PLAYER1_NAME|PLAYER1_TEAM_NICKNAME|PLAYER1_TEAM_ID|PLAYER2_ID|   PLAYER2_NAME|PLAYER2_TEAM_NICKNAME|PLAYER2_TEAM_ID|HOME_TEAM_NICKNAME|VISITOR_TEAM_NICKNAME|HOME_SCORE|VISITOR_SCORE|\n",
      "+--------+--------------------+------+--------------------+----------+-------------+---------------------+---------------+----------+---------------+---------------------+---------------+------------------+---------------------+----------+-------------+\n",
      "|20001116|                NULL|     1|Iverson 21' Jump ...|       947|Allen Iverson|                76ers|  1.610612755E9|         0|           NULL|                 NULL|           NULL|              Heat|                76ers|         2|            0|\n",
      "|20001116|Mason 17' Jump Sh...|     1|                NULL|       193|Anthony Mason|                 Heat|  1.610612748E9|         0|           NULL|                 NULL|           NULL|              Heat|                76ers|         2|            2|\n",
      "|20001116|                NULL|     1|Lynch  Layup (2 P...|       248| George Lynch|                76ers|  1.610612755E9|       727|      Eric Snow|                76ers|  1.610612755E9|              Heat|                76ers|         4|            2|\n",
      "|20001116|                NULL|     1|Iverson  Driving ...|       947|Allen Iverson|                76ers|  1.610612755E9|         0|           NULL|                 NULL|           NULL|              Heat|                76ers|         6|            2|\n",
      "|20001116|                NULL|     1|Iverson 24' 3PT J...|       947|Allen Iverson|                76ers|  1.610612755E9|        87|Dikembe Mutombo|                76ers|  1.610612755E9|              Heat|                76ers|         9|            2|\n",
      "+--------+--------------------+------+--------------------+----------+-------------+---------------------+---------------+----------+---------------+---------------------+---------------+------------------+---------------------+----------+-------------+\n",
      "only showing top 5 rows\n",
      "\n"
     ]
    }
   ],
   "source": [
    "# Show the dimensions before cleaning\n",
    "show_dataset_dimensions(coloumn_cleaned_data, \"before cleaning\")\n",
    "\n",
    "# Drop the PLAYER3_ID column\n",
    "cleaned_data = coloumn_cleaned_data.drop(\"PLAYER3_ID\")\n",
    "\n",
    "# Show the dimensions before cleaning\n",
    "show_dataset_dimensions(cleaned_data, \"after cleaning\")\n",
    "\n",
    "# Show a sample of cleaned data\n",
    "cleaned_data.show(5)"
   ]
  },
  {
   "cell_type": "markdown",
   "metadata": {},
   "source": [
    "Let's find out who won the game and who lost. Let's follow the below logic to find that out.\n",
    "\n",
    "Approach: \n",
    "\n",
    "Group by GAME_ID. Then get the maximum HOME_SCORE and maximum VISITOR_SCORE. \n",
    "\n",
    " If maximum HOME_SCORE > maximum VISITOR_SCORE\n",
    "\tthen WINING_TEAM = HOME_TEAM_NICKNAME\n",
    "\tthen LOOSING_TEAM = VISITOR_TEAM_NICKNAME\n",
    " Else \n",
    "\tthen WINING_TEAM = VISITOR_TEAM_NICKNAME\n",
    "\tthen LOOSING_TEAM = HOME_TEAM_NICKNAME\n",
    "\n",
    "Save this WINING_TEAM, and LOOSING_TEAM in the data frame."
   ]
  },
  {
   "cell_type": "code",
   "execution_count": 284,
   "metadata": {},
   "outputs": [
    {
     "name": "stdout",
     "output_type": "stream",
     "text": [
      "+--------+------------------+---------------------+--------------------------------------------------+------+-------------------------------------------------+----------+---------------+---------------------+---------------+----------+---------------+---------------------+---------------+----------+-------------+--------------+-----------------+-----------+------------+------------------+\n",
      "|GAME_ID |HOME_TEAM_NICKNAME|VISITOR_TEAM_NICKNAME|HOMEDESCRIPTION                                   |PERIOD|VISITORDESCRIPTION                               |PLAYER1_ID|PLAYER1_NAME   |PLAYER1_TEAM_NICKNAME|PLAYER1_TEAM_ID|PLAYER2_ID|PLAYER2_NAME   |PLAYER2_TEAM_NICKNAME|PLAYER2_TEAM_ID|HOME_SCORE|VISITOR_SCORE|MAX_HOME_SCORE|MAX_VISITOR_SCORE|WINING_TEAM|LOOSING_TEAM|LOOSING_TEAM_SCORE|\n",
      "+--------+------------------+---------------------+--------------------------------------------------+------+-------------------------------------------------+----------+---------------+---------------------+---------------+----------+---------------+---------------------+---------------+----------+-------------+--------------+-----------------+-----------+------------+------------------+\n",
      "|20001116|Heat              |76ers                |NULL                                              |1     |Iverson 21' Jump Shot (2 PTS)                    |947       |Allen Iverson  |76ers                |1.610612755E9  |0         |NULL           |NULL                 |NULL           |2         |0            |81            |83               |76ers      |Heat        |81                |\n",
      "|20001116|Heat              |76ers                |Mason 17' Jump Shot (2 PTS)                       |1     |NULL                                             |193       |Anthony Mason  |Heat                 |1.610612748E9  |0         |NULL           |NULL                 |NULL           |2         |2            |81            |83               |76ers      |Heat        |81                |\n",
      "|20001116|Heat              |76ers                |NULL                                              |1     |Lynch  Layup (2 PTS) (Snow 1 AST)                |248       |George Lynch   |76ers                |1.610612755E9  |727       |Eric Snow      |76ers                |1.610612755E9  |4         |2            |81            |83               |76ers      |Heat        |81                |\n",
      "|20001116|Heat              |76ers                |NULL                                              |1     |Iverson  Driving Layup (4 PTS)                   |947       |Allen Iverson  |76ers                |1.610612755E9  |0         |NULL           |NULL                 |NULL           |6         |2            |81            |83               |76ers      |Heat        |81                |\n",
      "|20001116|Heat              |76ers                |NULL                                              |1     |Iverson 24' 3PT Jump Shot (7 PTS) (Mutombo 1 AST)|947       |Allen Iverson  |76ers                |1.610612755E9  |87        |Dikembe Mutombo|76ers                |1.610612755E9  |9         |2            |81            |83               |76ers      |Heat        |81                |\n",
      "|20001116|Heat              |76ers                |Grant 17' Jump Shot (2 PTS) (Majerle 1 AST)       |1     |NULL                                             |258       |Brian Grant    |Heat                 |1.610612748E9  |105       |Dan Majerle    |Heat                 |1.610612748E9  |9         |4            |81            |83               |76ers      |Heat        |81                |\n",
      "|20001116|Heat              |76ers                |NULL                                              |1     |Iverson 20' Jump Shot (9 PTS)                    |947       |Allen Iverson  |76ers                |1.610612755E9  |0         |NULL           |NULL                 |NULL           |11        |4            |81            |83               |76ers      |Heat        |81                |\n",
      "|20001116|Heat              |76ers                |Grant 20' Jump Shot (4 PTS) (Hardaway 1 AST)      |1     |NULL                                             |258       |Brian Grant    |Heat                 |1.610612748E9  |896       |Tim Hardaway   |Heat                 |1.610612748E9  |11        |6            |81            |83               |76ers      |Heat        |81                |\n",
      "|20001116|Heat              |76ers                |Grant 17' Jump Shot (6 PTS) (Majerle 2 AST)       |1     |NULL                                             |258       |Brian Grant    |Heat                 |1.610612748E9  |105       |Dan Majerle    |Heat                 |1.610612748E9  |11        |8            |81            |83               |76ers      |Heat        |81                |\n",
      "|20001116|Heat              |76ers                |NULL                                              |1     |Jones  Tip Shot (2 PTS)                          |1908      |Jumaine Jones  |76ers                |1.610612755E9  |0         |NULL           |NULL                 |NULL           |13        |8            |81            |83               |76ers      |Heat        |81                |\n",
      "|20001116|Heat              |76ers                |Mason 16' Jump Shot (4 PTS) (Hardaway 2 AST)      |1     |NULL                                             |193       |Anthony Mason  |Heat                 |1.610612748E9  |896       |Tim Hardaway   |Heat                 |1.610612748E9  |13        |10           |81            |83               |76ers      |Heat        |81                |\n",
      "|20001116|Heat              |76ers                |NULL                                              |1     |Snow 19' Jump Shot (2 PTS) (Jones 1 AST)         |727       |Eric Snow      |76ers                |1.610612755E9  |1908      |Jumaine Jones  |76ers                |1.610612755E9  |15        |10           |81            |83               |76ers      |Heat        |81                |\n",
      "|20001116|Heat              |76ers                |Hardaway 24' 3PT Jump Shot (3 PTS) (Majerle 3 AST)|1     |NULL                                             |896       |Tim Hardaway   |Heat                 |1.610612748E9  |105       |Dan Majerle    |Heat                 |1.610612748E9  |15        |13           |81            |83               |76ers      |Heat        |81                |\n",
      "|20001116|Heat              |76ers                |Hardaway 19' Jump Shot (5 PTS)                    |1     |NULL                                             |896       |Tim Hardaway   |Heat                 |1.610612748E9  |0         |NULL           |NULL                 |NULL           |15        |15           |81            |83               |76ers      |Heat        |81                |\n",
      "|20001116|Heat              |76ers                |Mourning  Dunk (2 PTS) (Majerle 4 AST)            |1     |NULL                                             |297       |Alonzo Mourning|Heat                 |1.610612748E9  |105       |Dan Majerle    |Heat                 |1.610612748E9  |15        |17           |81            |83               |76ers      |Heat        |81                |\n",
      "|20001116|Heat              |76ers                |NULL                                              |1     |Iverson 18' Jump Shot (11 PTS) (Snow 2 AST)      |947       |Allen Iverson  |76ers                |1.610612755E9  |727       |Eric Snow      |76ers                |1.610612755E9  |17        |17           |81            |83               |76ers      |Heat        |81                |\n",
      "|20001116|Heat              |76ers                |Mourning  Dunk (4 PTS) (Bowen 1 AST)              |1     |NULL                                             |297       |Alonzo Mourning|Heat                 |1.610612748E9  |1477      |Bruce Bowen    |Heat                 |1.610612748E9  |17        |19           |81            |83               |76ers      |Heat        |81                |\n",
      "|20001116|Heat              |76ers                |NULL                                              |1     |Snow 6' Jump Shot (4 PTS)                        |727       |Eric Snow      |76ers                |1.610612755E9  |0         |NULL           |NULL                 |NULL           |19        |19           |81            |83               |76ers      |Heat        |81                |\n",
      "|20001116|Heat              |76ers                |NULL                                              |1     |NULL                                             |0         |NULL           |NULL                 |NULL           |0         |NULL           |NULL                 |NULL           |19        |19           |81            |83               |76ers      |Heat        |81                |\n",
      "|20001116|Heat              |76ers                |NULL                                              |2     |NULL                                             |0         |NULL           |NULL                 |NULL           |0         |NULL           |NULL                 |NULL           |19        |19           |81            |83               |76ers      |Heat        |81                |\n",
      "+--------+------------------+---------------------+--------------------------------------------------+------+-------------------------------------------------+----------+---------------+---------------------+---------------+----------+---------------+---------------------+---------------+----------+-------------+--------------+-----------------+-----------+------------+------------------+\n",
      "only showing top 20 rows\n",
      "\n"
     ]
    }
   ],
   "source": [
    "from pyspark.sql.functions import col, max as spark_max, when\n",
    "\n",
    "# Step 1: Group by GAME_ID and calculate maximum scores\n",
    "game_results = cleaned_data.groupBy(\"GAME_ID\", \"HOME_TEAM_NICKNAME\", \"VISITOR_TEAM_NICKNAME\").agg(\n",
    "    spark_max(\"HOME_SCORE\").alias(\"MAX_HOME_SCORE\"),\n",
    "    spark_max(\"VISITOR_SCORE\").alias(\"MAX_VISITOR_SCORE\")\n",
    ")\n",
    "\n",
    "# Step 2: Determine WINING_TEAM, LOOSING_TEAM, and LOOSING_TEAM_SCORE\n",
    "game_results = game_results.withColumn(\n",
    "    \"WINING_TEAM\",\n",
    "    when(col(\"MAX_HOME_SCORE\") > col(\"MAX_VISITOR_SCORE\"), col(\"HOME_TEAM_NICKNAME\"))\n",
    "    .otherwise(col(\"VISITOR_TEAM_NICKNAME\"))\n",
    ").withColumn(\n",
    "    \"LOOSING_TEAM\",\n",
    "    when(col(\"MAX_HOME_SCORE\") > col(\"MAX_VISITOR_SCORE\"), col(\"VISITOR_TEAM_NICKNAME\"))\n",
    "    .otherwise(col(\"HOME_TEAM_NICKNAME\"))\n",
    ").withColumn(\n",
    "    \"LOOSING_TEAM_SCORE\",\n",
    "    when(col(\"MAX_HOME_SCORE\") > col(\"MAX_VISITOR_SCORE\"), col(\"MAX_VISITOR_SCORE\"))\n",
    "    .otherwise(col(\"MAX_HOME_SCORE\"))\n",
    ")\n",
    "\n",
    "# Step 3: Join back to the original dataset\n",
    "final_game_result_data = cleaned_data.join(game_results, on=[\"GAME_ID\", \"HOME_TEAM_NICKNAME\", \"VISITOR_TEAM_NICKNAME\"], how=\"left\")\n",
    "\n",
    "# Show the final result\n",
    "final_game_result_data.show(truncate=False)"
   ]
  },
  {
   "cell_type": "markdown",
   "metadata": {},
   "source": [
    "Now we have identified the wining team and loosing team. \n",
    "\n",
    "Now we can remove some columns since we have the wining and loosing teams."
   ]
  },
  {
   "cell_type": "code",
   "execution_count": 285,
   "metadata": {},
   "outputs": [
    {
     "name": "stdout",
     "output_type": "stream",
     "text": [
      "+--------+-----------+------------+------------------+--------------------+--------------------+\n",
      "| GAME_ID|WINING_TEAM|LOOSING_TEAM|LOOSING_TEAM_SCORE|     HOMEDESCRIPTION|  VISITORDESCRIPTION|\n",
      "+--------+-----------+------------+------------------+--------------------+--------------------+\n",
      "|20001116|      76ers|        Heat|                81|                NULL|Iverson 21' Jump ...|\n",
      "|20001116|      76ers|        Heat|                81|Mason 17' Jump Sh...|                NULL|\n",
      "|20001116|      76ers|        Heat|                81|                NULL|Lynch  Layup (2 P...|\n",
      "|20001116|      76ers|        Heat|                81|                NULL|Iverson  Driving ...|\n",
      "|20001116|      76ers|        Heat|                81|                NULL|Iverson 24' 3PT J...|\n",
      "|20001116|      76ers|        Heat|                81|Grant 17' Jump Sh...|                NULL|\n",
      "|20001116|      76ers|        Heat|                81|                NULL|Iverson 20' Jump ...|\n",
      "|20001116|      76ers|        Heat|                81|Grant 20' Jump Sh...|                NULL|\n",
      "|20001116|      76ers|        Heat|                81|Grant 17' Jump Sh...|                NULL|\n",
      "|20001116|      76ers|        Heat|                81|                NULL|Jones  Tip Shot (...|\n",
      "|20001116|      76ers|        Heat|                81|Mason 16' Jump Sh...|                NULL|\n",
      "|20001116|      76ers|        Heat|                81|                NULL|Snow 19' Jump Sho...|\n",
      "|20001116|      76ers|        Heat|                81|Hardaway 24' 3PT ...|                NULL|\n",
      "|20001116|      76ers|        Heat|                81|Hardaway 19' Jump...|                NULL|\n",
      "|20001116|      76ers|        Heat|                81|Mourning  Dunk (2...|                NULL|\n",
      "|20001116|      76ers|        Heat|                81|                NULL|Iverson 18' Jump ...|\n",
      "|20001116|      76ers|        Heat|                81|Mourning  Dunk (4...|                NULL|\n",
      "|20001116|      76ers|        Heat|                81|                NULL|Snow 6' Jump Shot...|\n",
      "|20001116|      76ers|        Heat|                81|                NULL|                NULL|\n",
      "|20001116|      76ers|        Heat|                81|                NULL|                NULL|\n",
      "+--------+-----------+------------+------------------+--------------------+--------------------+\n",
      "only showing top 20 rows\n",
      "\n"
     ]
    }
   ],
   "source": [
    "# Relevant columns selected\n",
    "selected_columns = [\n",
    "    'GAME_ID', 'WINING_TEAM', 'LOOSING_TEAM', 'LOOSING_TEAM_SCORE', 'HOMEDESCRIPTION', 'VISITORDESCRIPTION'\n",
    "]\n",
    "\n",
    "# Dataset with relevant columns selected\n",
    "final_game_result_data = final_game_result_data.select(*selected_columns)\n",
    "\n",
    "# Show the results\n",
    "final_game_result_data.show()"
   ]
  },
  {
   "cell_type": "markdown",
   "metadata": {},
   "source": [
    "Now let's find how many points each player scored for each game they played.\n",
    "\n",
    "As we can see, \"GAME_ID\", \"HOMEDESCRIPTION\" and the \"VISITORDESCRIPTION\" column contains the information about the points scored by different players. Therefore we will extract these columns to a new dataframe to simplify the dataset.\n",
    "\n",
    "Let's merge \"HOMEDESCRIPTION\", and \"VISITORDESCRIPTION\" columns to simplify the data frame further."
   ]
  },
  {
   "cell_type": "code",
   "execution_count": 286,
   "metadata": {},
   "outputs": [
    {
     "name": "stdout",
     "output_type": "stream",
     "text": [
      "+--------+-----------+------------+------------------+--------------------+--------------------+--------------------+\n",
      "| GAME_ID|WINING_TEAM|LOOSING_TEAM|LOOSING_TEAM_SCORE|     HOMEDESCRIPTION|  VISITORDESCRIPTION|  MERGED_DESCRIPTION|\n",
      "+--------+-----------+------------+------------------+--------------------+--------------------+--------------------+\n",
      "|20001116|      76ers|        Heat|                81|                NULL|Iverson 21' Jump ...|Iverson 21' Jump ...|\n",
      "|20001116|      76ers|        Heat|                81|Mason 17' Jump Sh...|                NULL|Mason 17' Jump Sh...|\n",
      "|20001116|      76ers|        Heat|                81|                NULL|Lynch  Layup (2 P...|Lynch  Layup (2 P...|\n",
      "|20001116|      76ers|        Heat|                81|                NULL|Iverson  Driving ...|Iverson  Driving ...|\n",
      "|20001116|      76ers|        Heat|                81|                NULL|Iverson 24' 3PT J...|Iverson 24' 3PT J...|\n",
      "|20001116|      76ers|        Heat|                81|Grant 17' Jump Sh...|                NULL|Grant 17' Jump Sh...|\n",
      "|20001116|      76ers|        Heat|                81|                NULL|Iverson 20' Jump ...|Iverson 20' Jump ...|\n",
      "|20001116|      76ers|        Heat|                81|Grant 20' Jump Sh...|                NULL|Grant 20' Jump Sh...|\n",
      "|20001116|      76ers|        Heat|                81|Grant 17' Jump Sh...|                NULL|Grant 17' Jump Sh...|\n",
      "|20001116|      76ers|        Heat|                81|                NULL|Jones  Tip Shot (...|Jones  Tip Shot (...|\n",
      "|20001116|      76ers|        Heat|                81|Mason 16' Jump Sh...|                NULL|Mason 16' Jump Sh...|\n",
      "|20001116|      76ers|        Heat|                81|                NULL|Snow 19' Jump Sho...|Snow 19' Jump Sho...|\n",
      "|20001116|      76ers|        Heat|                81|Hardaway 24' 3PT ...|                NULL|Hardaway 24' 3PT ...|\n",
      "|20001116|      76ers|        Heat|                81|Hardaway 19' Jump...|                NULL|Hardaway 19' Jump...|\n",
      "|20001116|      76ers|        Heat|                81|Mourning  Dunk (2...|                NULL|Mourning  Dunk (2...|\n",
      "|20001116|      76ers|        Heat|                81|                NULL|Iverson 18' Jump ...|Iverson 18' Jump ...|\n",
      "|20001116|      76ers|        Heat|                81|Mourning  Dunk (4...|                NULL|Mourning  Dunk (4...|\n",
      "|20001116|      76ers|        Heat|                81|                NULL|Snow 6' Jump Shot...|Snow 6' Jump Shot...|\n",
      "|20001116|      76ers|        Heat|                81|Mourning 16' Jump...|                NULL|Mourning 16' Jump...|\n",
      "|20001116|      76ers|        Heat|                81|Mourning 17' Jump...|                NULL|Mourning 17' Jump...|\n",
      "+--------+-----------+------------+------------------+--------------------+--------------------+--------------------+\n",
      "only showing top 20 rows\n",
      "\n"
     ]
    }
   ],
   "source": [
    "from pyspark.sql.functions import concat_ws, trim\n",
    "\n",
    "# Merge HOMEDESCRIPTION and VISITORDESCRIPTION into a new column named \"MERGED_DESCRIPTION\"\n",
    "player_score_for_each_game = final_game_result_data.withColumn(\"MERGED_DESCRIPTION\", concat_ws(\" \", \"HOMEDESCRIPTION\", \"VISITORDESCRIPTION\"))\n",
    "\n",
    "# Remove rows where MERGED_DESCRIPTION is NULL or empty\n",
    "player_score_for_each_game = player_score_for_each_game.filter(trim(col(\"MERGED_DESCRIPTION\")) != \"\")\n",
    "\n",
    "# Show the results\n",
    "player_score_for_each_game.show()"
   ]
  },
  {
   "cell_type": "markdown",
   "metadata": {},
   "source": [
    "Now the \"player_score_for_each_game\" data frame has \"MERGED_DESCRIPTION\". This column contains sentences like values. Therefore we need to extract the player names and the point they have scored from these sentences like values. \n",
    "\n",
    "The first word in this column is the name of the player. And the point is stored like this \"(2 PTS)\". We will extract these values to 2 new columns."
   ]
  },
  {
   "cell_type": "code",
   "execution_count": 287,
   "metadata": {},
   "outputs": [
    {
     "name": "stdout",
     "output_type": "stream",
     "text": [
      "+--------+-----------+------------+------------------+--------------------+--------------------+--------------------+-----------+-------------+\n",
      "| GAME_ID|WINING_TEAM|LOOSING_TEAM|LOOSING_TEAM_SCORE|     HOMEDESCRIPTION|  VISITORDESCRIPTION|  MERGED_DESCRIPTION|PLAYER_NAME|PLAYER_POINTS|\n",
      "+--------+-----------+------------+------------------+--------------------+--------------------+--------------------+-----------+-------------+\n",
      "|20000773|       Heat|        Suns|                85|                NULL|Robinson 2' Runni...|Robinson 2' Runni...|   Robinson|            2|\n",
      "|20000773|       Heat|        Suns|                85|                NULL|Marion 8' Jump Sh...|Marion 8' Jump Sh...|     Marion|            2|\n",
      "|20000773|       Heat|        Suns|                85|                NULL|Robinson Free Thr...|Robinson Free Thr...|   Robinson|            3|\n",
      "|20000773|       Heat|        Suns|                85|Mason  Layup (2 P...|                NULL|Mason  Layup (2 P...|      Mason|            2|\n",
      "|20000773|       Heat|        Suns|                85|Grant  Layup (2 P...|                NULL|Grant  Layup (2 P...|      Grant|            2|\n",
      "|20000773|       Heat|        Suns|                85|Grant  Driving La...|                NULL|Grant  Driving La...|      Grant|            4|\n",
      "|20000773|       Heat|        Suns|                85|                NULL|Elie  3PT Jump Sh...|Elie  3PT Jump Sh...|       Elie|            3|\n",
      "|20000773|       Heat|        Suns|                85|Mason  Layup (4 P...|                NULL|Mason  Layup (4 P...|      Mason|            4|\n",
      "|20000773|       Heat|        Suns|                85|                NULL|Marion 19' Jump S...|Marion 19' Jump S...|     Marion|            4|\n",
      "|20000773|       Heat|        Suns|                85|                NULL|Marion 9' Running...|Marion 9' Running...|     Marion|            6|\n",
      "|20000773|       Heat|        Suns|                85|Jones 7' Jump Sho...|                NULL|Jones 7' Jump Sho...|      Jones|            2|\n",
      "|20000773|       Heat|        Suns|                85|Jones Free Throw ...|                NULL|Jones Free Throw ...|      Jones|            3|\n",
      "|20000773|       Heat|        Suns|                85|Jones Free Throw ...|                NULL|Jones Free Throw ...|      Jones|            4|\n",
      "|20000773|       Heat|        Suns|                85|                NULL|Robinson Free Thr...|Robinson Free Thr...|   Robinson|            4|\n",
      "|20000773|       Heat|        Suns|                85|                NULL|Robinson Free Thr...|Robinson Free Thr...|   Robinson|            5|\n",
      "|20000773|       Heat|        Suns|                85|Hardaway  Driving...|                NULL|Hardaway  Driving...|   Hardaway|            2|\n",
      "|20000773|       Heat|        Suns|                85|                NULL|Marion 8' Running...|Marion 8' Running...|     Marion|            8|\n",
      "|20000773|       Heat|        Suns|                85|                NULL|Rogers 19' Jump S...|Rogers 19' Jump S...|     Rogers|            2|\n",
      "|20000773|       Heat|        Suns|                85|                NULL|Rogers  Layup (4 ...|Rogers  Layup (4 ...|     Rogers|            4|\n",
      "|20000773|       Heat|        Suns|                85|                NULL|Robinson  Tip Sho...|Robinson  Tip Sho...|   Robinson|            7|\n",
      "+--------+-----------+------------+------------------+--------------------+--------------------+--------------------+-----------+-------------+\n",
      "only showing top 20 rows\n",
      "\n"
     ]
    }
   ],
   "source": [
    "from pyspark.sql.functions import regexp_extract, col\n",
    "\n",
    "# Define regex patterns\n",
    "player_name_pattern = r\"^(\\w+)\"  # First word as player name\n",
    "points_pattern = r\"\\((\\d+) PTS\\)\"  # Number inside parentheses followed by 'PTS'\n",
    "\n",
    "# Extract PLAYER_NAME and PLAYER_POINTS\n",
    "player_score_for_each_game = player_score_for_each_game.withColumn(\"PLAYER_NAME\", regexp_extract(col(\"MERGED_DESCRIPTION\"), player_name_pattern, 1)) \\\n",
    "           .withColumn(\"PLAYER_POINTS\", regexp_extract(col(\"MERGED_DESCRIPTION\"), points_pattern, 1).cast(\"int\"))\n",
    "\n",
    "# Show the resulting dataset\n",
    "player_score_for_each_game.show()"
   ]
  },
  {
   "cell_type": "markdown",
   "metadata": {},
   "source": [
    "Let's remove the \"MERGED_DESCRIPTION\" column from the data frame as it will not be needed anymore."
   ]
  },
  {
   "cell_type": "code",
   "execution_count": 288,
   "metadata": {},
   "outputs": [
    {
     "name": "stdout",
     "output_type": "stream",
     "text": [
      "+--------+-----------+------------+-----------+-------------+\n",
      "| GAME_ID|WINING_TEAM|LOOSING_TEAM|PLAYER_NAME|PLAYER_POINTS|\n",
      "+--------+-----------+------------+-----------+-------------+\n",
      "|20000773|       Heat|        Suns|   Robinson|            2|\n",
      "|20000773|       Heat|        Suns|     Marion|            2|\n",
      "|20000773|       Heat|        Suns|   Robinson|            3|\n",
      "|20000773|       Heat|        Suns|      Mason|            2|\n",
      "|20000773|       Heat|        Suns|      Grant|            2|\n",
      "|20000773|       Heat|        Suns|      Grant|            4|\n",
      "|20000773|       Heat|        Suns|       Elie|            3|\n",
      "|20000773|       Heat|        Suns|      Mason|            4|\n",
      "|20000773|       Heat|        Suns|     Marion|            4|\n",
      "|20000773|       Heat|        Suns|     Marion|            6|\n",
      "|20000773|       Heat|        Suns|      Jones|            2|\n",
      "|20000773|       Heat|        Suns|      Jones|            3|\n",
      "|20000773|       Heat|        Suns|      Jones|            4|\n",
      "|20000773|       Heat|        Suns|   Robinson|            4|\n",
      "|20000773|       Heat|        Suns|   Robinson|            5|\n",
      "|20000773|       Heat|        Suns|   Hardaway|            2|\n",
      "|20000773|       Heat|        Suns|     Marion|            8|\n",
      "|20000773|       Heat|        Suns|     Rogers|            2|\n",
      "|20000773|       Heat|        Suns|     Rogers|            4|\n",
      "|20000773|       Heat|        Suns|   Robinson|            7|\n",
      "+--------+-----------+------------+-----------+-------------+\n",
      "only showing top 20 rows\n",
      "\n"
     ]
    }
   ],
   "source": [
    "# Relevant columns selected\n",
    "selected_columns = [\n",
    "    'GAME_ID', 'WINING_TEAM', 'LOOSING_TEAM', 'PLAYER_NAME', 'PLAYER_POINTS'\n",
    "]\n",
    "\n",
    "# Dataset with relevant columns selected\n",
    "player_score_for_each_game = player_score_for_each_game.select(*selected_columns)\n",
    "\n",
    "# Show the results\n",
    "player_score_for_each_game.show()"
   ]
  },
  {
   "cell_type": "markdown",
   "metadata": {},
   "source": [
    "Now we have only above columns. Let's get the points scored for each player in each match."
   ]
  },
  {
   "cell_type": "code",
   "execution_count": 289,
   "metadata": {},
   "outputs": [
    {
     "name": "stdout",
     "output_type": "stream",
     "text": [
      "The dataset contains 20682 rows and 5 columns after processing.\n",
      "+--------+------------+-------------+-----------+-----------+\n",
      "|GAME_ID |WINING_TEAM |LOOSING_TEAM |PLAYER_NAME|TOTAL_SCORE|\n",
      "+--------+------------+-------------+-----------+-----------+\n",
      "|20000233|Timberwolves|Knicks       |Day        |6          |\n",
      "|20000021|Hawks       |Knicks       |Knight     |2          |\n",
      "|20000614|Hawks       |Wizards      |Smith      |9          |\n",
      "|20000650|Nuggets     |Bucks        |Bowen      |4          |\n",
      "|20000197|Magic       |Bucks        |Williams   |2          |\n",
      "|20000206|Pacers      |Lakers       |Fox        |7          |\n",
      "|20001066|76ers       |Raptors      |Clark      |11         |\n",
      "|20000439|Nets        |Bulls        |Miller     |2          |\n",
      "|20001116|76ers       |Heat         |Mutombo    |5          |\n",
      "|20000693|Nuggets     |Pistons      |Strickland |5          |\n",
      "|20001051|Spurs       |Bucks        |Porter     |4          |\n",
      "|20000270|Nuggets     |Magic        |Posey      |7          |\n",
      "|20000842|Pistons     |Heat         |Bowen      |3          |\n",
      "|20000918|Cavaliers   |Knicks       |Postell    |7          |\n",
      "|20000665|Nuggets     |Pacers       |Bowen      |3          |\n",
      "|20000060|Hawks       |Trail Blazers|Crawford   |5          |\n",
      "|20000859|SuperSonics |Timberwolves |Payton     |44         |\n",
      "|20000859|SuperSonics |Timberwolves |Patterson  |13         |\n",
      "|20000916|Clippers    |Spurs        |Anderson   |11         |\n",
      "|20000102|Clippers    |Mavericks    |Alexander  |5          |\n",
      "+--------+------------+-------------+-----------+-----------+\n",
      "only showing top 20 rows\n",
      "\n"
     ]
    }
   ],
   "source": [
    "from pyspark.sql.functions import col, row_number, last\n",
    "from pyspark.sql.window import Window\n",
    "\n",
    "# Define a window specification to find the last PLAYER_POINTS value\n",
    "window_spec = Window.partitionBy(\"GAME_ID\", \"PLAYER_NAME\").orderBy(col(\"GAME_ID\").asc())\n",
    "\n",
    "# Add row number to identify the last value\n",
    "data_with_row_num = player_score_for_each_game.withColumn(\"row_num\", row_number().over(window_spec))\n",
    "\n",
    "# Group by GAME_ID and PLAYER_NAME to get the last PLAYER_POINTS value as TOTAL_SCORE\n",
    "player_score_for_each_game = player_score_for_each_game.groupBy(\"GAME_ID\", \"WINING_TEAM\", \"LOOSING_TEAM\", \"PLAYER_NAME\").agg(\n",
    "    last(\"PLAYER_POINTS\").alias(\"TOTAL_SCORE\")\n",
    ")\n",
    "\n",
    "# Show the dimensions of the resulting dataset\n",
    "num_rows = player_score_for_each_game.count()\n",
    "num_cols = len(player_score_for_each_game.columns)\n",
    "print(f\"The dataset contains {num_rows} rows and {num_cols} columns after processing.\")\n",
    "\n",
    "# Show the resulting dataset\n",
    "player_score_for_each_game.show(truncate=False)"
   ]
  },
  {
   "cell_type": "markdown",
   "metadata": {},
   "source": [
    "This dataset will be used as the data for model building task.\n",
    "\n",
    "# 2. Model Building\n"
   ]
  },
  {
   "cell_type": "markdown",
   "metadata": {},
   "source": [
    "Let's create a helper method to train the model."
   ]
  },
  {
   "cell_type": "code",
   "execution_count": 290,
   "metadata": {},
   "outputs": [],
   "source": [
    "from pyspark.sql.functions import col, when\n",
    "from pyspark.ml.feature import StringIndexer, VectorAssembler\n",
    "from pyspark.ml.regression import LinearRegression\n",
    "from pyspark.ml.evaluation import RegressionEvaluator\n",
    "\n",
    "# Train and evaluate the model\n",
    "def train_model(data, team_a, team_b):\n",
    "    # Step 1: Filter Matches between team_a and team_b\n",
    "    filtered_data = data.filter(\n",
    "        (col(\"WINING_TEAM\").isin([team_a, team_b])) & (col(\"LOOSING_TEAM\").isin([team_a, team_b]))\n",
    "    )\n",
    "\n",
    "    # Step 2: Extract relevant features\n",
    "    filtered_data = filtered_data.withColumn(\"IS_WINNING_TEAM\", when(col(\"WINING_TEAM\") == team_a, 1).otherwise(0))\n",
    "    \n",
    "    # Encode PLAYER_NAME\n",
    "    player_indexer = StringIndexer(inputCol=\"PLAYER_NAME\", outputCol=\"PLAYER_INDEX\")\n",
    "    player_indexer_model = player_indexer.fit(filtered_data)\n",
    "    filtered_data = player_indexer_model.transform(filtered_data)\n",
    "    \n",
    "    # Assemble features\n",
    "    assembler = VectorAssembler(inputCols=[\"PLAYER_INDEX\", \"IS_WINNING_TEAM\"], outputCol=\"features\")\n",
    "    filtered_data = assembler.transform(filtered_data)\n",
    "\n",
    "    # Step 3: Split data frame into train and test\n",
    "    train_data, test_data = filtered_data.randomSplit([0.8, 0.2], seed=42)\n",
    "\n",
    "    # Step 4: Train the Model\n",
    "    lr = LinearRegression(featuresCol=\"features\", labelCol=\"TOTAL_SCORE\", maxIter=10, regParam=0.3, elasticNetParam=0.8)\n",
    "    lr_model = lr.fit(train_data)\n",
    "\n",
    "    # Step 5: Evaluate the Model\n",
    "    predictions = lr_model.transform(test_data)\n",
    "    evaluator = RegressionEvaluator(labelCol=\"TOTAL_SCORE\", predictionCol=\"prediction\", metricName=\"rmse\")\n",
    "    rmse = evaluator.evaluate(predictions)\n",
    "    print(f\"Model trained. Root Mean Squared Error (RMSE): {rmse}\")\n",
    "\n",
    "    return lr_model, player_indexer_model, assembler"
   ]
  },
  {
   "cell_type": "markdown",
   "metadata": {},
   "source": [
    "Let's create a helper function to predict the player points"
   ]
  },
  {
   "cell_type": "code",
   "execution_count": 291,
   "metadata": {},
   "outputs": [],
   "source": [
    "def predict_player_points(lr_model, player_indexer_model, assembler, player_name, team_a, team_b):\n",
    "    # Create new data for prediction\n",
    "    player_data = spark.createDataFrame([(player_name,)], [\"PLAYER_NAME\"])\n",
    "    player_data = player_indexer_model.transform(player_data)\n",
    "    player_data = player_data.withColumn(\"IS_WINNING_TEAM\", when(col(\"PLAYER_NAME\") == player_name, 1).otherwise(0))\n",
    "    player_data = assembler.transform(player_data)\n",
    "\n",
    "    # Make prediction\n",
    "    player_prediction = lr_model.transform(player_data)\n",
    "    prediction_value = player_prediction.select(\"prediction\").first()[0]  # Get the prediction value\n",
    "\n",
    "    # Round up the prediction to the nearest integer\n",
    "    required_points = math.ceil(prediction_value)\n",
    "\n",
    "    # Format the output\n",
    "    result = f\"{player_name} should score at least {required_points} points to win the match against {team_b}\"\n",
    "    return result\n"
   ]
  },
  {
   "cell_type": "code",
   "execution_count": 292,
   "metadata": {},
   "outputs": [
    {
     "name": "stdout",
     "output_type": "stream",
     "text": [
      "Model trained. Root Mean Squared Error (RMSE): 6.16014071781651\n",
      "Day should score at least 9 points to win the match against Knicks\n"
     ]
    }
   ],
   "source": [
    "# Example\n",
    "team_a = \"Timberwolves\"\n",
    "team_b = \"Knicks\"\n",
    "player_name = \"Day\"\n",
    "\n",
    "# Train the model\n",
    "lr_model, player_indexer_model, assembler = train_model(player_score_for_each_game, team_a, team_b)\n",
    "\n",
    "# Predict player points\n",
    "result = predict_player_points(lr_model, player_indexer_model, assembler, player_name, team_a, team_b)\n",
    "print(result)"
   ]
  }
 ],
 "metadata": {
  "kernelspec": {
   "display_name": "base",
   "language": "python",
   "name": "python3"
  },
  "language_info": {
   "codemirror_mode": {
    "name": "ipython",
    "version": 3
   },
   "file_extension": ".py",
   "mimetype": "text/x-python",
   "name": "python",
   "nbconvert_exporter": "python",
   "pygments_lexer": "ipython3",
   "version": "3.11.7"
  }
 },
 "nbformat": 4,
 "nbformat_minor": 2
}

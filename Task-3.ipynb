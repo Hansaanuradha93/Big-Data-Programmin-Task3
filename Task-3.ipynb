{
 "cells": [
  {
   "cell_type": "markdown",
   "metadata": {},
   "source": [
    "# 1. Data Preprocessing \n",
    "\n",
    "#### 1. Load the raw dataset\n",
    "\n",
    "When loading the dataset skip the first row since it contains metadata that is not valuable for the later steps. Let's saved the new dataframe to a csv file then."
   ]
  },
  {
   "cell_type": "code",
   "execution_count": 247,
   "metadata": {},
   "outputs": [],
   "source": [
    "import pandas as pd\n",
    "\n",
    "# Dataset file path\n",
    "inputPath = 'data/dataset.csv'\n",
    "\n",
    "# Read the dataset, skip the first row which contains metadata\n",
    "data = pd.read_csv(inputPath, sep=',', skiprows=1) \n",
    "\n",
    "# Save the new dataset\n",
    "outputPath = \"data/dataset-version-1.csv\"\n",
    "data.to_csv(outputPath, index=False)"
   ]
  },
  {
   "cell_type": "markdown",
   "metadata": {},
   "source": [
    "#### 2. Load the newly created dataset-version-1.csv to a spark session.\n",
    "\n",
    "All the next preprocessing tasks will be executed with Spark."
   ]
  },
  {
   "cell_type": "code",
   "execution_count": 248,
   "metadata": {},
   "outputs": [
    {
     "name": "stdout",
     "output_type": "stream",
     "text": [
      "+-------+--------+--------+--------------------+-------------------+------+----------+-------------+-------------------------+-----------------+---------------+---------------------+----------+---------------+-------------------------+-----------------+---------------+---------------------+----------+------------+-------------------------+-----------------+---------------+---------------------+-----+-----------+--------------------+\n",
      "|EVENTID|EVENTNUM| GAME_ID|     HOMEDESCRIPTION|       PCTIMESTRING|PERIOD|PLAYER1_ID| PLAYER1_NAME|PLAYER1_TEAM_ABBREVIATION|PLAYER1_TEAM_CITY|PLAYER1_TEAM_ID|PLAYER1_TEAM_NICKNAME|PLAYER2_ID|   PLAYER2_NAME|PLAYER2_TEAM_ABBREVIATION|PLAYER2_TEAM_CITY|PLAYER2_TEAM_ID|PLAYER2_TEAM_NICKNAME|PLAYER3_ID|PLAYER3_NAME|PLAYER3_TEAM_ABBREVIATION|PLAYER3_TEAM_CITY|PLAYER3_TEAM_ID|PLAYER3_TEAM_NICKNAME|SCORE|SCOREMARGIN|  VISITORDESCRIPTION|\n",
      "+-------+--------+--------+--------------------+-------------------+------+----------+-------------+-------------------------+-----------------+---------------+---------------------+----------+---------------+-------------------------+-----------------+---------------+---------------------+----------+------------+-------------------------+-----------------+---------------+---------------------+-----+-----------+--------------------+\n",
      "|      0|       0|20001116|                NULL|2024-12-13 12:00:00|     1|         0|         NULL|                     NULL|             NULL|           NULL|                 NULL|         0|           NULL|                     NULL|             NULL|           NULL|                 NULL|         0|        NULL|                     NULL|             NULL|           NULL|                 NULL| NULL|       NULL|                NULL|\n",
      "|      1|       1|20001116|Jump Ball Grant v...|2024-12-13 12:00:00|     1|       258|  Brian Grant|                      MIA|            Miami|  1.610612748E9|                 Heat|        87|Dikembe Mutombo|                      PHI|     Philadelphia|  1.610612755E9|                76ers|       238| Tyrone Hill|                      PHI|     Philadelphia|  1.610612755E9|                76ers| NULL|       NULL|                NULL|\n",
      "|      2|       2|20001116|                NULL|2024-12-13 11:45:00|     1|       947|Allen Iverson|                      PHI|     Philadelphia|  1.610612755E9|                76ers|         0|           NULL|                     NULL|             NULL|           NULL|                 NULL|         0|        NULL|                     NULL|             NULL|           NULL|                 NULL|2 - 0|         -2|Iverson 21' Jump ...|\n",
      "|      3|       3|20001116|                NULL|2024-12-13 11:28:00|     1|       238|  Tyrone Hill|                      PHI|     Philadelphia|  1.610612755E9|                76ers|         0|           NULL|                     NULL|             NULL|           NULL|                 NULL|         0|        NULL|                     NULL|             NULL|           NULL|                 NULL| NULL|       NULL| Hill P.FOUL (P1.T1)|\n",
      "|      4|       4|20001116|Mason 17' Jump Sh...|2024-12-13 11:19:00|     1|       193|Anthony Mason|                      MIA|            Miami|  1.610612748E9|                 Heat|         0|           NULL|                     NULL|             NULL|           NULL|                 NULL|         0|        NULL|                     NULL|             NULL|           NULL|                 NULL|2 - 2|        TIE|                NULL|\n",
      "|      5|       5|20001116|                NULL|2024-12-13 10:56:00|     1|       248| George Lynch|                      PHI|     Philadelphia|  1.610612755E9|                76ers|         0|           NULL|                     NULL|             NULL|           NULL|                 NULL|         0|        NULL|                     NULL|             NULL|           NULL|                 NULL| NULL|       NULL|MISS Lynch 22' Ju...|\n",
      "|      6|       6|20001116|Mason REBOUND (Of...|2024-12-13 10:54:00|     1|       193|Anthony Mason|                      MIA|            Miami|  1.610612748E9|                 Heat|         0|           NULL|                     NULL|             NULL|           NULL|                 NULL|         0|        NULL|                     NULL|             NULL|           NULL|                 NULL| NULL|       NULL|                NULL|\n",
      "|      7|       7|20001116|MISS Majerle  Dri...|2024-12-13 10:49:00|     1|       105|  Dan Majerle|                      MIA|            Miami|  1.610612748E9|                 Heat|         0|           NULL|                     NULL|             NULL|           NULL|                 NULL|         0|        NULL|                     NULL|             NULL|           NULL|                 NULL| NULL|       NULL|                NULL|\n",
      "|      8|       8|20001116|                NULL|2024-12-13 10:47:00|     1|       727|    Eric Snow|                      PHI|     Philadelphia|  1.610612755E9|                76ers|         0|           NULL|                     NULL|             NULL|           NULL|                 NULL|         0|        NULL|                     NULL|             NULL|           NULL|                 NULL| NULL|       NULL|Snow REBOUND (Off...|\n",
      "|      9|       9|20001116|                NULL|2024-12-13 10:44:00|     1|       248| George Lynch|                      PHI|     Philadelphia|  1.610612755E9|                76ers|       727|      Eric Snow|                      PHI|     Philadelphia|  1.610612755E9|                76ers|         0|        NULL|                     NULL|             NULL|           NULL|                 NULL|4 - 2|         -2|Lynch  Layup (2 P...|\n",
      "|     10|      10|20001116|Hardaway S.FOUL (...|2024-12-13 10:44:00|     1|       896| Tim Hardaway|                      MIA|            Miami|  1.610612748E9|                 Heat|         0|           NULL|                     NULL|             NULL|           NULL|                 NULL|         0|        NULL|                     NULL|             NULL|           NULL|                 NULL| NULL|       NULL|                NULL|\n",
      "|     11|      11|20001116|                NULL|2024-12-13 10:44:00|     1|       248| George Lynch|                      PHI|     Philadelphia|  1.610612755E9|                76ers|         0|           NULL|                     NULL|             NULL|           NULL|                 NULL|         0|        NULL|                     NULL|             NULL|           NULL|                 NULL| NULL|       NULL|MISS Lynch Free T...|\n",
      "|     12|      12|20001116|Grant REBOUND (Of...|2024-12-13 10:43:00|     1|       258|  Brian Grant|                      MIA|            Miami|  1.610612748E9|                 Heat|         0|           NULL|                     NULL|             NULL|           NULL|                 NULL|         0|        NULL|                     NULL|             NULL|           NULL|                 NULL| NULL|       NULL|                NULL|\n",
      "|     13|      13|20001116|MISS Grant 14' Ju...|2024-12-13 10:26:00|     1|       258|  Brian Grant|                      MIA|            Miami|  1.610612748E9|                 Heat|         0|           NULL|                     NULL|             NULL|           NULL|                 NULL|         0|        NULL|                     NULL|             NULL|           NULL|                 NULL| NULL|       NULL|                NULL|\n",
      "|     14|      14|20001116|                NULL|2024-12-13 10:24:00|     1|       238|  Tyrone Hill|                      PHI|     Philadelphia|  1.610612755E9|                76ers|         0|           NULL|                     NULL|             NULL|           NULL|                 NULL|         0|        NULL|                     NULL|             NULL|           NULL|                 NULL| NULL|       NULL|Hill REBOUND (Off...|\n",
      "|     15|      15|20001116|                NULL|2024-12-13 10:08:00|     1|       238|  Tyrone Hill|                      PHI|     Philadelphia|  1.610612755E9|                76ers|         0|           NULL|                     NULL|             NULL|           NULL|                 NULL|         0|        NULL|                     NULL|             NULL|           NULL|                 NULL| NULL|       NULL|MISS Hill 17' Jum...|\n",
      "|     16|      16|20001116|Mason REBOUND (Of...|2024-12-13 10:06:00|     1|       193|Anthony Mason|                      MIA|            Miami|  1.610612748E9|                 Heat|         0|           NULL|                     NULL|             NULL|           NULL|                 NULL|         0|        NULL|                     NULL|             NULL|           NULL|                 NULL| NULL|       NULL|                NULL|\n",
      "|     17|      17|20001116|MISS Bowen 4' Jum...|2024-12-13 09:53:00|     1|      1477|  Bruce Bowen|                      MIA|            Miami|  1.610612748E9|                 Heat|         0|           NULL|                     NULL|             NULL|           NULL|                 NULL|         0|        NULL|                     NULL|             NULL|           NULL|                 NULL| NULL|       NULL|                NULL|\n",
      "|     18|      18|20001116|                NULL|2024-12-13 09:51:00|     1|       238|  Tyrone Hill|                      PHI|     Philadelphia|  1.610612755E9|                76ers|         0|           NULL|                     NULL|             NULL|           NULL|                 NULL|         0|        NULL|                     NULL|             NULL|           NULL|                 NULL| NULL|       NULL|Hill REBOUND (Off...|\n",
      "|     19|      19|20001116|                NULL|2024-12-13 09:45:00|     1|       947|Allen Iverson|                      PHI|     Philadelphia|  1.610612755E9|                76ers|         0|           NULL|                     NULL|             NULL|           NULL|                 NULL|         0|        NULL|                     NULL|             NULL|           NULL|                 NULL|6 - 2|         -4|Iverson  Driving ...|\n",
      "+-------+--------+--------+--------------------+-------------------+------+----------+-------------+-------------------------+-----------------+---------------+---------------------+----------+---------------+-------------------------+-----------------+---------------+---------------------+----------+------------+-------------------------+-----------------+---------------+---------------------+-----+-----------+--------------------+\n",
      "only showing top 20 rows\n",
      "\n"
     ]
    },
    {
     "name": "stderr",
     "output_type": "stream",
     "text": [
      "                                                                                \r"
     ]
    }
   ],
   "source": [
    "from pyspark.sql import SparkSession\n",
    "from pyspark.sql.functions import col\n",
    "\n",
    "# New Spark Session\n",
    "spark = SparkSession.builder \\\n",
    "    .appName(\"NBA Player Performance Prediction\") \\\n",
    "    .getOrCreate()\n",
    "\n",
    "# Load the dataset\n",
    "inputPath = \"data/dataset-version-1.csv\"\n",
    "data = spark.read.csv(inputPath, header=True, inferSchema=True)\n",
    "\n",
    "# Show the dataset\n",
    "data.show()"
   ]
  },
  {
   "cell_type": "markdown",
   "metadata": {},
   "source": [
    "After going through the dataset, we can see that there are many missing values. We will be handling those missing values in the next steps.\n",
    "\n",
    "#### 3. Drop rows where \"SCORE\" column is empty\n",
    "\n",
    "Before executing any data cleaning steps, we need to get an idea about the dimensions about this dataset. Therefore let's create a helper function to read the dimensions of the dataset. "
   ]
  },
  {
   "cell_type": "code",
   "execution_count": 249,
   "metadata": {},
   "outputs": [],
   "source": [
    "# Helper function to get the dimensions of a given dataset\n",
    "def show_dataset_dimensions(df, message):\n",
    "    \"\"\"\n",
    "    Displays the dimensions of a given dataframe along with a message.\n",
    "\n",
    "    Parameters:\n",
    "    - df : Dataframe\n",
    "    - message : Custom message\n",
    "    \"\"\"\n",
    "    # Get dimensions\n",
    "    num_rows = df.count()\n",
    "    num_columns = len(df.columns)\n",
    "\n",
    "    # Print dimensions\n",
    "    print(\"Dataset consists of\", num_rows, \"rows and\", num_columns, \"columns \", message)"
   ]
  },
  {
   "cell_type": "markdown",
   "metadata": {},
   "source": [
    "SCORE column is one of the most important columns in the dataset for the given task. Therefore we need to clean that column first. There are many missing values in this column, therefore we will remove all the rows where SCORE column is empty in the next steps. "
   ]
  },
  {
   "cell_type": "code",
   "execution_count": 250,
   "metadata": {},
   "outputs": [
    {
     "name": "stdout",
     "output_type": "stream",
     "text": [
      "Dataset consists of 537157 rows and 27 columns  before cleaning\n",
      "Dataset consists of 137590 rows and 27 columns  after cleaning\n"
     ]
    }
   ],
   "source": [
    "# Show the dimensions before cleaning\n",
    "show_dataset_dimensions(data, \"before cleaning\")\n",
    "\n",
    "# Remove rows where \"SCORE\" column is empty \n",
    "cleaned_data = data.filter(col('SCORE').isNotNull())\n",
    "\n",
    "# Show the dimensions after cleaning\n",
    "show_dataset_dimensions(cleaned_data, \"after cleaning\")"
   ]
  },
  {
   "cell_type": "markdown",
   "metadata": {},
   "source": [
    "#### 4. Identify valuable coloumns from the dataset.\n",
    "\n",
    "We have 537,157 rows in the initial dataset. After performing the above cleaning step, we have 137,590 rows remaining with 27 columns.\n",
    "\n",
    "The next step is to extract the important coloumns in the dataset that are relevant for the task. After going through the dataset manually, below columns seems to be the valuable among others. Therefore will filter only these columns and proceed with them in the next steps."
   ]
  },
  {
   "cell_type": "code",
   "execution_count": 251,
   "metadata": {},
   "outputs": [
    {
     "name": "stdout",
     "output_type": "stream",
     "text": [
      "Dataset consists of 137590 rows and 15 columns  after cleaning\n",
      "+--------+------+----------+---------------+---------------------+---------------+----------+---------------+---------------------+---------------+----------+------------+---------------------+---------------+-------+\n",
      "| GAME_ID|PERIOD|PLAYER1_ID|   PLAYER1_NAME|PLAYER1_TEAM_NICKNAME|PLAYER1_TEAM_ID|PLAYER2_ID|   PLAYER2_NAME|PLAYER2_TEAM_NICKNAME|PLAYER2_TEAM_ID|PLAYER3_ID|PLAYER3_NAME|PLAYER3_TEAM_NICKNAME|PLAYER3_TEAM_ID|  SCORE|\n",
      "+--------+------+----------+---------------+---------------------+---------------+----------+---------------+---------------------+---------------+----------+------------+---------------------+---------------+-------+\n",
      "|20001116|     1|       947|  Allen Iverson|                76ers|  1.610612755E9|         0|           NULL|                 NULL|           NULL|         0|        NULL|                 NULL|           NULL|  2 - 0|\n",
      "|20001116|     1|       193|  Anthony Mason|                 Heat|  1.610612748E9|         0|           NULL|                 NULL|           NULL|         0|        NULL|                 NULL|           NULL|  2 - 2|\n",
      "|20001116|     1|       248|   George Lynch|                76ers|  1.610612755E9|       727|      Eric Snow|                76ers|  1.610612755E9|         0|        NULL|                 NULL|           NULL|  4 - 2|\n",
      "|20001116|     1|       947|  Allen Iverson|                76ers|  1.610612755E9|         0|           NULL|                 NULL|           NULL|         0|        NULL|                 NULL|           NULL|  6 - 2|\n",
      "|20001116|     1|       947|  Allen Iverson|                76ers|  1.610612755E9|        87|Dikembe Mutombo|                76ers|  1.610612755E9|         0|        NULL|                 NULL|           NULL|  9 - 2|\n",
      "|20001116|     1|       258|    Brian Grant|                 Heat|  1.610612748E9|       105|    Dan Majerle|                 Heat|  1.610612748E9|         0|        NULL|                 NULL|           NULL|  9 - 4|\n",
      "|20001116|     1|       947|  Allen Iverson|                76ers|  1.610612755E9|         0|           NULL|                 NULL|           NULL|         0|        NULL|                 NULL|           NULL| 11 - 4|\n",
      "|20001116|     1|       258|    Brian Grant|                 Heat|  1.610612748E9|       896|   Tim Hardaway|                 Heat|  1.610612748E9|         0|        NULL|                 NULL|           NULL| 11 - 6|\n",
      "|20001116|     1|       258|    Brian Grant|                 Heat|  1.610612748E9|       105|    Dan Majerle|                 Heat|  1.610612748E9|         0|        NULL|                 NULL|           NULL| 11 - 8|\n",
      "|20001116|     1|      1908|  Jumaine Jones|                76ers|  1.610612755E9|         0|           NULL|                 NULL|           NULL|         0|        NULL|                 NULL|           NULL| 13 - 8|\n",
      "|20001116|     1|       193|  Anthony Mason|                 Heat|  1.610612748E9|       896|   Tim Hardaway|                 Heat|  1.610612748E9|         0|        NULL|                 NULL|           NULL|13 - 10|\n",
      "|20001116|     1|       727|      Eric Snow|                76ers|  1.610612755E9|      1908|  Jumaine Jones|                76ers|  1.610612755E9|         0|        NULL|                 NULL|           NULL|15 - 10|\n",
      "|20001116|     1|       896|   Tim Hardaway|                 Heat|  1.610612748E9|       105|    Dan Majerle|                 Heat|  1.610612748E9|         0|        NULL|                 NULL|           NULL|15 - 13|\n",
      "|20001116|     1|       896|   Tim Hardaway|                 Heat|  1.610612748E9|         0|           NULL|                 NULL|           NULL|         0|        NULL|                 NULL|           NULL|15 - 15|\n",
      "|20001116|     1|       297|Alonzo Mourning|                 Heat|  1.610612748E9|       105|    Dan Majerle|                 Heat|  1.610612748E9|         0|        NULL|                 NULL|           NULL|15 - 17|\n",
      "|20001116|     1|       947|  Allen Iverson|                76ers|  1.610612755E9|       727|      Eric Snow|                76ers|  1.610612755E9|         0|        NULL|                 NULL|           NULL|17 - 17|\n",
      "|20001116|     1|       297|Alonzo Mourning|                 Heat|  1.610612748E9|      1477|    Bruce Bowen|                 Heat|  1.610612748E9|         0|        NULL|                 NULL|           NULL|17 - 19|\n",
      "|20001116|     1|       727|      Eric Snow|                76ers|  1.610612755E9|         0|           NULL|                 NULL|           NULL|         0|        NULL|                 NULL|           NULL|19 - 19|\n",
      "|20001116|     1|         0|           NULL|                 NULL|           NULL|         0|           NULL|                 NULL|           NULL|         0|        NULL|                 NULL|           NULL|19 - 19|\n",
      "|20001116|     2|         0|           NULL|                 NULL|           NULL|         0|           NULL|                 NULL|           NULL|         0|        NULL|                 NULL|           NULL|19 - 19|\n",
      "+--------+------+----------+---------------+---------------------+---------------+----------+---------------+---------------------+---------------+----------+------------+---------------------+---------------+-------+\n",
      "only showing top 20 rows\n",
      "\n"
     ]
    }
   ],
   "source": [
    "# Relevant columns selected\n",
    "selected_columns = [\n",
    "    'GAME_ID', 'PERIOD', 'PLAYER1_ID', 'PLAYER1_NAME', 'PLAYER1_TEAM_NICKNAME',\n",
    "    'PLAYER1_TEAM_ID', 'PLAYER2_ID', 'PLAYER2_NAME', 'PLAYER2_TEAM_NICKNAME',\n",
    "    'PLAYER2_TEAM_ID', 'PLAYER3_ID', 'PLAYER3_NAME', 'PLAYER3_TEAM_NICKNAME',\n",
    "    'PLAYER3_TEAM_ID', 'SCORE',\n",
    "]\n",
    "\n",
    "# Dataset with relevant columns selected\n",
    "cleaned_data = cleaned_data.select(*selected_columns)\n",
    "\n",
    "# Show the dimensions before cleaning\n",
    "show_dataset_dimensions(cleaned_data, \"after cleaning\")\n",
    "\n",
    "# Show a sample of cleaned data\n",
    "cleaned_data.show()"
   ]
  },
  {
   "cell_type": "markdown",
   "metadata": {},
   "source": [
    "#### 5. Handle missing values in the coloumns.\n",
    "\n",
    "After the above cleaning process, we have only 15 columns there to work with.\n",
    "\n",
    "Let's identify the missing values in the dataset as the next step. Let's identify the columns where all values are empty, null or na. These columns will not help for our task. Therefore after identifying, we can remove them from the dataset."
   ]
  },
  {
   "cell_type": "code",
   "execution_count": 252,
   "metadata": {},
   "outputs": [
    {
     "name": "stdout",
     "output_type": "stream",
     "text": [
      "Dataset consists of 137590 rows and 15 columns  before cleaning\n",
      "Columns with all null, 'NA', or empty values: ['PLAYER3_NAME', 'PLAYER3_TEAM_NICKNAME', 'PLAYER3_TEAM_ID']\n",
      "Dataset consists of 137590 rows and 12 columns  after cleaning\n"
     ]
    }
   ],
   "source": [
    "from pyspark.sql.functions import col\n",
    "\n",
    "# Show the dimensions before cleaning\n",
    "show_dataset_dimensions(cleaned_data, \"before cleaning\")\n",
    "\n",
    "from pyspark.sql.functions import col\n",
    "\n",
    "# Function to identidy columns in a dataset where all values are null, 'NA', or empty, and drop those columns from the dataset\n",
    "def drop_all_null_columns(dataframe):\n",
    "    \"\"\"\n",
    "    Identify columns in given dataframe where all values are null, 'NA', or empty strings\n",
    "    and remove those columns from the dataframe.\n",
    "\n",
    "    Parameters:\n",
    "    - dataframe : Dataframe\n",
    "\n",
    "    Returns:\n",
    "    - tuple\n",
    "        A tuple containing:\n",
    "        - The cleaned dataframe.\n",
    "        - List of column names that were removed\n",
    "\n",
    "    \"\"\"\n",
    "    # Count the number of null, 'na' or empty values in every column\n",
    "    null_counts = {\n",
    "        column: dataframe.filter(\n",
    "            (col(column).isNull()) | (col(column) == \"NA\") | (col(column) == \"\")\n",
    "        ).count()\n",
    "        for column in dataframe.columns\n",
    "    }\n",
    "\n",
    "    # Identify columns where all rows are null, 'na', or empty\n",
    "    all_null_columns = [column for column, null_count in null_counts.items() if null_count == dataframe.count()]\n",
    "\n",
    "    # Drop those columns\n",
    "    cleaned_data = dataframe.drop(*all_null_columns)\n",
    "\n",
    "    return cleaned_data, all_null_columns\n",
    "\n",
    "\n",
    "# Cleaned data and list of columns to be dropped\n",
    "cleaned_data, dropped_columns = drop_all_null_columns(cleaned_data)\n",
    "\n",
    "# Print the columns that were dropped\n",
    "print(\"Columns with all null, 'NA', or empty values:\", dropped_columns)\n",
    "\n",
    "# Show the dimensions before cleaning\n",
    "show_dataset_dimensions(cleaned_data, \"after cleaning\")"
   ]
  },
  {
   "cell_type": "markdown",
   "metadata": {},
   "source": [
    "As we can see below columns contains only null, na or empty values,\n",
    "\n",
    "* PLAYER3_NAME\n",
    "* PLAYER3_TEAM_NICKNAME\n",
    "* PLAYER3_TEAM_ID\n",
    "\n",
    "All above columns were dropped from the database. Before this cleaning process we had 15 columns remaining. Now we have 12 coloumns remaining in the dataset.\n",
    "\n",
    "Since most of the columns that are relevant to \"Player 3\" are dropped from the dataset, we can also remove the 'PLAYER3_ID' as well since only PLAYER3_ID column alone does not provide any valuable insights."
   ]
  },
  {
   "cell_type": "code",
   "execution_count": 253,
   "metadata": {},
   "outputs": [
    {
     "name": "stdout",
     "output_type": "stream",
     "text": [
      "Dataset consists of 137590 rows and 12 columns  before cleaning\n",
      "Dataset consists of 137590 rows and 11 columns  after cleaning\n"
     ]
    }
   ],
   "source": [
    "# Show the dimensions before cleaning\n",
    "show_dataset_dimensions(cleaned_data, \"before cleaning\")\n",
    "\n",
    "# Drop the PLAYER3_ID column\n",
    "cleaned_data = cleaned_data.drop(\"PLAYER3_ID\")\n",
    "\n",
    "# Show the dimensions before cleaning\n",
    "show_dataset_dimensions(cleaned_data, \"after cleaning\")"
   ]
  },
  {
   "cell_type": "markdown",
   "metadata": {},
   "source": [
    "After dropping the 'PLAYER3_ID' column, we have only 11 coloumns remaining in the dataset.\n",
    "\n",
    "#### 6. Process the SCORE coloumn further.\n",
    "\n",
    "Next let's process the \"SCORE\" coloumn. The score is saved the format like this: 13 - 10. If the score value does not follow this format, let's remove that row first. Then we can extract these scores to 2 different colomns saying \"TEAM1_SCORE\", and \"TEAM2_SCORE\". After that we can remove the \"SCORE\" column."
   ]
  },
  {
   "cell_type": "code",
   "execution_count": 254,
   "metadata": {},
   "outputs": [
    {
     "name": "stdout",
     "output_type": "stream",
     "text": [
      "+--------+------+----------+---------------+---------------------+---------------+----------+---------------+---------------------+---------------+-----------+-----------+\n",
      "| GAME_ID|PERIOD|PLAYER1_ID|   PLAYER1_NAME|PLAYER1_TEAM_NICKNAME|PLAYER1_TEAM_ID|PLAYER2_ID|   PLAYER2_NAME|PLAYER2_TEAM_NICKNAME|PLAYER2_TEAM_ID|TEAM1_SCORE|TEAM2_SCORE|\n",
      "+--------+------+----------+---------------+---------------------+---------------+----------+---------------+---------------------+---------------+-----------+-----------+\n",
      "|20001116|     1|       947|  Allen Iverson|                76ers|  1.610612755E9|         0|           NULL|                 NULL|           NULL|          2|          0|\n",
      "|20001116|     1|       193|  Anthony Mason|                 Heat|  1.610612748E9|         0|           NULL|                 NULL|           NULL|          2|          2|\n",
      "|20001116|     1|       248|   George Lynch|                76ers|  1.610612755E9|       727|      Eric Snow|                76ers|  1.610612755E9|          4|          2|\n",
      "|20001116|     1|       947|  Allen Iverson|                76ers|  1.610612755E9|         0|           NULL|                 NULL|           NULL|          6|          2|\n",
      "|20001116|     1|       947|  Allen Iverson|                76ers|  1.610612755E9|        87|Dikembe Mutombo|                76ers|  1.610612755E9|          9|          2|\n",
      "|20001116|     1|       258|    Brian Grant|                 Heat|  1.610612748E9|       105|    Dan Majerle|                 Heat|  1.610612748E9|          9|          4|\n",
      "|20001116|     1|       947|  Allen Iverson|                76ers|  1.610612755E9|         0|           NULL|                 NULL|           NULL|         11|          4|\n",
      "|20001116|     1|       258|    Brian Grant|                 Heat|  1.610612748E9|       896|   Tim Hardaway|                 Heat|  1.610612748E9|         11|          6|\n",
      "|20001116|     1|       258|    Brian Grant|                 Heat|  1.610612748E9|       105|    Dan Majerle|                 Heat|  1.610612748E9|         11|          8|\n",
      "|20001116|     1|      1908|  Jumaine Jones|                76ers|  1.610612755E9|         0|           NULL|                 NULL|           NULL|         13|          8|\n",
      "|20001116|     1|       193|  Anthony Mason|                 Heat|  1.610612748E9|       896|   Tim Hardaway|                 Heat|  1.610612748E9|         13|         10|\n",
      "|20001116|     1|       727|      Eric Snow|                76ers|  1.610612755E9|      1908|  Jumaine Jones|                76ers|  1.610612755E9|         15|         10|\n",
      "|20001116|     1|       896|   Tim Hardaway|                 Heat|  1.610612748E9|       105|    Dan Majerle|                 Heat|  1.610612748E9|         15|         13|\n",
      "|20001116|     1|       896|   Tim Hardaway|                 Heat|  1.610612748E9|         0|           NULL|                 NULL|           NULL|         15|         15|\n",
      "|20001116|     1|       297|Alonzo Mourning|                 Heat|  1.610612748E9|       105|    Dan Majerle|                 Heat|  1.610612748E9|         15|         17|\n",
      "|20001116|     1|       947|  Allen Iverson|                76ers|  1.610612755E9|       727|      Eric Snow|                76ers|  1.610612755E9|         17|         17|\n",
      "|20001116|     1|       297|Alonzo Mourning|                 Heat|  1.610612748E9|      1477|    Bruce Bowen|                 Heat|  1.610612748E9|         17|         19|\n",
      "|20001116|     1|       727|      Eric Snow|                76ers|  1.610612755E9|         0|           NULL|                 NULL|           NULL|         19|         19|\n",
      "|20001116|     1|         0|           NULL|                 NULL|           NULL|         0|           NULL|                 NULL|           NULL|         19|         19|\n",
      "|20001116|     2|         0|           NULL|                 NULL|           NULL|         0|           NULL|                 NULL|           NULL|         19|         19|\n",
      "+--------+------+----------+---------------+---------------------+---------------+----------+---------------+---------------------+---------------+-----------+-----------+\n",
      "only showing top 20 rows\n",
      "\n",
      "Dataset consists of 137590 rows and 11 columns  before cleaning\n",
      "Dataset consists of 137590 rows and 12 columns  after cleaning\n"
     ]
    }
   ],
   "source": [
    "from pyspark.sql.functions import col, regexp_extract\n",
    "\n",
    "# Remove rows where SCORE does not follow the \"number - number\" format\n",
    "valid_score_data = cleaned_data.filter(cleaned_data.SCORE.rlike(r\"^\\d+\\s*-\\s*\\d+$\"))\n",
    "\n",
    "# Extract scores into two separate columns: TEAM1_SCORE and TEAM2_SCORE\n",
    "processed_data = valid_score_data.withColumn(\"TEAM1_SCORE\", regexp_extract(col(\"SCORE\"), r\"^(\\d+)\\s*-\\s*\\d+$\", 1)) \\\n",
    "                                 .withColumn(\"TEAM2_SCORE\", regexp_extract(col(\"SCORE\"), r\"^\\d+\\s*-\\s*(\\d+)$\", 1))\n",
    "\n",
    "# Cast the extracted scores to integer\n",
    "processed_data = processed_data.withColumn(\"TEAM1_SCORE\", col(\"TEAM1_SCORE\").cast(\"integer\")) \\\n",
    "                               .withColumn(\"TEAM2_SCORE\", col(\"TEAM2_SCORE\").cast(\"integer\"))\n",
    "\n",
    "# Drop the original SCORE column\n",
    "processed_data = processed_data.drop(\"SCORE\")\n",
    "\n",
    "# Show the processed dataset\n",
    "processed_data.show()\n",
    "\n",
    "# Show the dimensions before cleaning\n",
    "show_dataset_dimensions(cleaned_data, \"before cleaning\")\n",
    "\n",
    "# Show the dimensions before cleaning\n",
    "show_dataset_dimensions(processed_data, \"after cleaning\")"
   ]
  },
  {
   "cell_type": "markdown",
   "metadata": {},
   "source": [
    "After that step, we have 137,590 rows and 12 columns remaining to work with.\n",
    "\n",
    "#### 7. Identify the Teams participated for each game.\n",
    "\n",
    "Next let's identify the the Teams participated for each game. We can store Team A and Team B names in Team1_Name and Team2_Name."
   ]
  },
  {
   "cell_type": "code",
   "execution_count": 255,
   "metadata": {},
   "outputs": [
    {
     "name": "stderr",
     "output_type": "stream",
     "text": [
      "                                                                                \r"
     ]
    },
    {
     "name": "stdout",
     "output_type": "stream",
     "text": [
      "+--------+------+----------+---------------+---------------------+---------------+----------+---------------+---------------------+---------------+-----------+-----------+----------+----------+\n",
      "| GAME_ID|PERIOD|PLAYER1_ID|   PLAYER1_NAME|PLAYER1_TEAM_NICKNAME|PLAYER1_TEAM_ID|PLAYER2_ID|   PLAYER2_NAME|PLAYER2_TEAM_NICKNAME|PLAYER2_TEAM_ID|TEAM1_SCORE|TEAM2_SCORE|Team1_Name|Team2_Name|\n",
      "+--------+------+----------+---------------+---------------------+---------------+----------+---------------+---------------------+---------------+-----------+-----------+----------+----------+\n",
      "|20001116|     1|       947|  Allen Iverson|                76ers|  1.610612755E9|         0|           NULL|                 NULL|           NULL|          2|          0|     76ers|      Heat|\n",
      "|20001116|     1|       193|  Anthony Mason|                 Heat|  1.610612748E9|         0|           NULL|                 NULL|           NULL|          2|          2|     76ers|      Heat|\n",
      "|20001116|     1|       248|   George Lynch|                76ers|  1.610612755E9|       727|      Eric Snow|                76ers|  1.610612755E9|          4|          2|     76ers|      Heat|\n",
      "|20001116|     1|       947|  Allen Iverson|                76ers|  1.610612755E9|         0|           NULL|                 NULL|           NULL|          6|          2|     76ers|      Heat|\n",
      "|20001116|     1|       947|  Allen Iverson|                76ers|  1.610612755E9|        87|Dikembe Mutombo|                76ers|  1.610612755E9|          9|          2|     76ers|      Heat|\n",
      "|20001116|     1|       258|    Brian Grant|                 Heat|  1.610612748E9|       105|    Dan Majerle|                 Heat|  1.610612748E9|          9|          4|     76ers|      Heat|\n",
      "|20001116|     1|       947|  Allen Iverson|                76ers|  1.610612755E9|         0|           NULL|                 NULL|           NULL|         11|          4|     76ers|      Heat|\n",
      "|20001116|     1|       258|    Brian Grant|                 Heat|  1.610612748E9|       896|   Tim Hardaway|                 Heat|  1.610612748E9|         11|          6|     76ers|      Heat|\n",
      "|20001116|     1|       258|    Brian Grant|                 Heat|  1.610612748E9|       105|    Dan Majerle|                 Heat|  1.610612748E9|         11|          8|     76ers|      Heat|\n",
      "|20001116|     1|      1908|  Jumaine Jones|                76ers|  1.610612755E9|         0|           NULL|                 NULL|           NULL|         13|          8|     76ers|      Heat|\n",
      "|20001116|     1|       193|  Anthony Mason|                 Heat|  1.610612748E9|       896|   Tim Hardaway|                 Heat|  1.610612748E9|         13|         10|     76ers|      Heat|\n",
      "|20001116|     1|       727|      Eric Snow|                76ers|  1.610612755E9|      1908|  Jumaine Jones|                76ers|  1.610612755E9|         15|         10|     76ers|      Heat|\n",
      "|20001116|     1|       896|   Tim Hardaway|                 Heat|  1.610612748E9|       105|    Dan Majerle|                 Heat|  1.610612748E9|         15|         13|     76ers|      Heat|\n",
      "|20001116|     1|       896|   Tim Hardaway|                 Heat|  1.610612748E9|         0|           NULL|                 NULL|           NULL|         15|         15|     76ers|      Heat|\n",
      "|20001116|     1|       297|Alonzo Mourning|                 Heat|  1.610612748E9|       105|    Dan Majerle|                 Heat|  1.610612748E9|         15|         17|     76ers|      Heat|\n",
      "|20001116|     1|       947|  Allen Iverson|                76ers|  1.610612755E9|       727|      Eric Snow|                76ers|  1.610612755E9|         17|         17|     76ers|      Heat|\n",
      "|20001116|     1|       297|Alonzo Mourning|                 Heat|  1.610612748E9|      1477|    Bruce Bowen|                 Heat|  1.610612748E9|         17|         19|     76ers|      Heat|\n",
      "|20001116|     1|       727|      Eric Snow|                76ers|  1.610612755E9|         0|           NULL|                 NULL|           NULL|         19|         19|     76ers|      Heat|\n",
      "|20001116|     1|         0|           NULL|                 NULL|           NULL|         0|           NULL|                 NULL|           NULL|         19|         19|     76ers|      Heat|\n",
      "|20001116|     2|         0|           NULL|                 NULL|           NULL|         0|           NULL|                 NULL|           NULL|         19|         19|     76ers|      Heat|\n",
      "+--------+------+----------+---------------+---------------------+---------------+----------+---------------+---------------------+---------------+-----------+-----------+----------+----------+\n",
      "only showing top 20 rows\n",
      "\n"
     ]
    }
   ],
   "source": [
    "from pyspark.sql.functions import col, collect_set, first, udf, lit\n",
    "from pyspark.sql.types import StringType\n",
    "\n",
    "# Step 1: Identify Team1_Name for each GAME_ID\n",
    "team1_name_df = processed_data.groupBy(\"GAME_ID\").agg(\n",
    "    first(\"PLAYER1_TEAM_NICKNAME\", ignorenulls=True).alias(\"Computed_Team1_Name\")\n",
    ")\n",
    "\n",
    "# Step 2: Identify Team2_Name for each GAME_ID\n",
    "# Collect unique team nicknames per GAME_ID\n",
    "distinct_teams_df = processed_data.groupBy(\"GAME_ID\").agg(\n",
    "    collect_set(\"PLAYER1_TEAM_NICKNAME\").alias(\"Distinct_Teams\")\n",
    ")\n",
    "\n",
    "# Define UDF to determine Team2_Name\n",
    "@udf(StringType())\n",
    "def find_opponent_team(distinct_teams, team1_name):\n",
    "    return next((team for team in distinct_teams if team != team1_name), None)\n",
    "\n",
    "distinct_teams_df = distinct_teams_df.join(team1_name_df, on=\"GAME_ID\", how=\"left\")\n",
    "distinct_teams_df = distinct_teams_df.withColumn(\n",
    "    \"Computed_Team2_Name\", find_opponent_team(col(\"Distinct_Teams\"), col(\"Computed_Team1_Name\"))\n",
    ")\n",
    "\n",
    "# Step 3: Create 'Team1_Name' and 'Team1_Name 'columns if they don't exist\n",
    "if \"Team1_Name\" not in processed_data.columns:\n",
    "    processed_data = processed_data.withColumn(\"Team1_Name\", lit(None).cast(StringType()))\n",
    "if \"Team2_Name\" not in processed_data.columns:\n",
    "    processed_data = processed_data.withColumn(\"Team2_Name\", lit(None).cast(StringType()))\n",
    "\n",
    "# Step 4: Update the Team1_Name and Team2_Name columns\n",
    "processed_data = processed_data.drop(\"Team1_Name\", \"Team2_Name\")\n",
    "processed_data = processed_data.join(\n",
    "    team1_name_df.select(\"GAME_ID\", col(\"Computed_Team1_Name\").alias(\"Team1_Name\")), \n",
    "    on=\"GAME_ID\", how=\"left\"\n",
    ")\n",
    "processed_data = processed_data.join(\n",
    "    distinct_teams_df.select(\"GAME_ID\", col(\"Computed_Team2_Name\").alias(\"Team2_Name\")), \n",
    "    on=\"GAME_ID\", how=\"left\"\n",
    ")\n",
    "\n",
    "# Show the processed dataset\n",
    "processed_data.show()"
   ]
  },
  {
   "cell_type": "markdown",
   "metadata": {},
   "source": [
    "After the above step, we have identified the participating teams for each game. \n",
    "\n",
    "#### 8. Indentify Winning Team and Winning Team Score\n",
    "\n",
    "Let's extract the Winning Team and Winning Team Score and add it to the dataframe. "
   ]
  },
  {
   "cell_type": "code",
   "execution_count": 256,
   "metadata": {},
   "outputs": [
    {
     "name": "stderr",
     "output_type": "stream",
     "text": [
      "                                                                                \r"
     ]
    },
    {
     "name": "stdout",
     "output_type": "stream",
     "text": [
      "+--------+------+----------+----------------+---------------------+---------------+----------+-------------+---------------------+---------------+-----------+-----------+----------+----------+-----------------+------------------+\n",
      "| GAME_ID|PERIOD|PLAYER1_ID|    PLAYER1_NAME|PLAYER1_TEAM_NICKNAME|PLAYER1_TEAM_ID|PLAYER2_ID| PLAYER2_NAME|PLAYER2_TEAM_NICKNAME|PLAYER2_TEAM_ID|TEAM1_SCORE|TEAM2_SCORE|Team1_Name|Team2_Name|Winning_Team_Name|Winning_Team_Score|\n",
      "+--------+------+----------+----------------+---------------------+---------------+----------+-------------+---------------------+---------------+-----------+-----------+----------+----------+-----------------+------------------+\n",
      "|20000001|     1|       689|    Theo Ratliff|                76ers|  1.610612755E9|         0|         NULL|                 NULL|           NULL|          1|          0|     76ers|    Knicks|            76ers|               101|\n",
      "|20000001|     1|       948|    Marcus Camby|               Knicks|  1.610612752E9|         0|         NULL|                 NULL|           NULL|          1|          1|     76ers|    Knicks|            76ers|               101|\n",
      "|20000001|     1|       948|    Marcus Camby|               Knicks|  1.610612752E9|         0|         NULL|                 NULL|           NULL|          1|          2|     76ers|    Knicks|            76ers|               101|\n",
      "|20000001|     1|       689|    Theo Ratliff|                76ers|  1.610612755E9|       248| George Lynch|                76ers|  1.610612755E9|          3|          2|     76ers|    Knicks|            76ers|               101|\n",
      "|20000001|     1|       275|   Allan Houston|               Knicks|  1.610612752E9|       369| Charlie Ward|               Knicks|  1.610612752E9|          3|          4|     76ers|    Knicks|            76ers|               101|\n",
      "|20000001|     1|       689|    Theo Ratliff|                76ers|  1.610612755E9|       248| George Lynch|                76ers|  1.610612755E9|          5|          4|     76ers|    Knicks|            76ers|               101|\n",
      "|20000001|     1|       727|       Eric Snow|                76ers|  1.610612755E9|       947|Allen Iverson|                76ers|  1.610612755E9|          7|          4|     76ers|    Knicks|            76ers|               101|\n",
      "|20000001|     1|       275|   Allan Houston|               Knicks|  1.610612752E9|       913|Larry Johnson|               Knicks|  1.610612752E9|          7|          7|     76ers|    Knicks|            76ers|               101|\n",
      "|20000001|     1|       947|   Allen Iverson|                76ers|  1.610612755E9|       727|    Eric Snow|                76ers|  1.610612755E9|          9|          7|     76ers|    Knicks|            76ers|               101|\n",
      "|20000001|     1|       275|   Allan Houston|               Knicks|  1.610612752E9|         0|         NULL|                 NULL|           NULL|          9|          9|     76ers|    Knicks|            76ers|               101|\n",
      "|20000001|     1|       947|   Allen Iverson|                76ers|  1.610612755E9|         0|         NULL|                 NULL|           NULL|         10|          9|     76ers|    Knicks|            76ers|               101|\n",
      "|20000001|     1|       947|   Allen Iverson|                76ers|  1.610612755E9|         0|         NULL|                 NULL|           NULL|         11|          9|     76ers|    Knicks|            76ers|               101|\n",
      "|20000001|     1|       248|    George Lynch|                76ers|  1.610612755E9|       727|    Eric Snow|                76ers|  1.610612755E9|         13|          9|     76ers|    Knicks|            76ers|               101|\n",
      "|20000001|     1|       913|   Larry Johnson|               Knicks|  1.610612752E9|       275|Allan Houston|               Knicks|  1.610612752E9|         13|         11|     76ers|    Knicks|            76ers|               101|\n",
      "|20000001|     1|       369|    Charlie Ward|               Knicks|  1.610612752E9|       913|Larry Johnson|               Knicks|  1.610612752E9|         13|         13|     76ers|    Knicks|            76ers|               101|\n",
      "|20000001|     1|        84|Latrell Sprewell|               Knicks|  1.610612752E9|         0|         NULL|                 NULL|           NULL|         13|         15|     76ers|    Knicks|            76ers|               101|\n",
      "|20000001|     1|       947|   Allen Iverson|                76ers|  1.610612755E9|         0|         NULL|                 NULL|           NULL|         14|         15|     76ers|    Knicks|            76ers|               101|\n",
      "|20000001|     1|       947|   Allen Iverson|                76ers|  1.610612755E9|         0|         NULL|                 NULL|           NULL|         15|         15|     76ers|    Knicks|            76ers|               101|\n",
      "|20000001|     1|       727|       Eric Snow|                76ers|  1.610612755E9|         0|         NULL|                 NULL|           NULL|         17|         15|     76ers|    Knicks|            76ers|               101|\n",
      "|20000001|     1|       727|       Eric Snow|                76ers|  1.610612755E9|         0|         NULL|                 NULL|           NULL|         18|         15|     76ers|    Knicks|            76ers|               101|\n",
      "+--------+------+----------+----------------+---------------------+---------------+----------+-------------+---------------------+---------------+-----------+-----------+----------+----------+-----------------+------------------+\n",
      "only showing top 20 rows\n",
      "\n"
     ]
    }
   ],
   "source": [
    "from pyspark.sql.functions import col, max, when, lit\n",
    "\n",
    "# Step 1: Group by GAME_ID and find the maximum scores for Team 1 and Team 2\n",
    "scores_df = processed_data.groupBy(\"GAME_ID\").agg(\n",
    "    max(\"TEAM1_SCORE\").alias(\"Max_Team1_Score\"),\n",
    "    max(\"TEAM2_SCORE\").alias(\"Max_Team2_Score\")\n",
    ")\n",
    "\n",
    "# Step 2: Add a new column for the winning team\n",
    "scores_df = scores_df.withColumn(\n",
    "    \"Winning_Team\",\n",
    "    when(col(\"Max_Team1_Score\") > col(\"Max_Team2_Score\"), lit(\"Team1\"))\n",
    "    .when(col(\"Max_Team2_Score\") > col(\"Max_Team1_Score\"), lit(\"Team2\"))\n",
    "    .otherwise(lit(\"Draw\"))  # In case of a tie\n",
    ")\n",
    "\n",
    "# Step 3: Map the winning team to Team1_Name or Team2_Name and store the winning score\n",
    "scores_df = scores_df.join(\n",
    "    processed_data.select(\"GAME_ID\", \"Team1_Name\", \"Team2_Name\").distinct(),\n",
    "    on=\"GAME_ID\",\n",
    "    how=\"left\"\n",
    ")\n",
    "\n",
    "scores_df = scores_df.withColumn(\n",
    "    \"Winning_Team_Name\",\n",
    "    when(col(\"Winning_Team\") == \"Team1\", col(\"Team1_Name\"))\n",
    "    .when(col(\"Winning_Team\") == \"Team2\", col(\"Team2_Name\"))\n",
    "    .otherwise(lit(\"No Winner\"))  # For cases with no clear winner\n",
    ").withColumn(\n",
    "    \"Winning_Team_Score\",\n",
    "    when(col(\"Winning_Team\") == \"Team1\", col(\"Max_Team1_Score\"))\n",
    "    .when(col(\"Winning_Team\") == \"Team2\", col(\"Max_Team2_Score\"))\n",
    "    .otherwise(lit(None))  # No score for a tie\n",
    ").select(\"GAME_ID\", \"Winning_Team_Name\", \"Winning_Team_Score\")\n",
    "\n",
    "# Step 4: Merge Winning_Team_Name and Winning_Team_Score into processed_data\n",
    "processed_data = processed_data.join(\n",
    "    scores_df,\n",
    "    on=\"GAME_ID\",\n",
    "    how=\"left\"\n",
    ")\n",
    "\n",
    "# Step 5: Sort by PERIOD within each GAME_ID\n",
    "processed_data = processed_data.orderBy(col(\"GAME_ID\"), col(\"PERIOD\"))\n",
    "\n",
    "# Step 6: Display the updated DataFrame\n",
    "processed_data.show()"
   ]
  },
  {
   "cell_type": "markdown",
   "metadata": {},
   "source": [
    "After above process,  we have the winning team and the score of the winning team in the dataframe."
   ]
  },
  {
   "cell_type": "markdown",
   "metadata": {},
   "source": [
    "# 2. Data Visualization\n",
    "\n",
    "#### 1. Plot the score progression for the first game"
   ]
  },
  {
   "cell_type": "code",
   "execution_count": 257,
   "metadata": {},
   "outputs": [
    {
     "name": "stderr",
     "output_type": "stream",
     "text": [
      "                                                                                \r"
     ]
    },
    {
     "data": {
      "image/png": "[encoded data removed]",
      "text/plain": [
       "<Figure size 1000x600 with 1 Axes>"
      ]
     },
     "metadata": {},
     "output_type": "display_data"
    }
   ],
   "source": [
    "from pyspark.sql import DataFrame\n",
    "import matplotlib.pyplot as plt\n",
    "\n",
    "def plot_score_progression(data: DataFrame, game_id: int):\n",
    "    \"\"\"\n",
    "    Plot the score progression for a given game.\n",
    "\n",
    "    Parameters:\n",
    "    - data: PySpark DataFrame.\n",
    "    - game_id: The GAME_ID of the game to plot.\n",
    "    \"\"\"\n",
    "    # Filter the dataframe for a given GAME_ID\n",
    "    game_data = data.filter(data['GAME_ID'] == game_id).toPandas()\n",
    "\n",
    "    # Plot the score progression\n",
    "    plt.figure(figsize=(10, 6))\n",
    "    plt.plot(game_data.index, game_data['TEAM1_SCORE'], label='Team 1 Score', marker='o')\n",
    "    plt.plot(game_data.index, game_data['TEAM2_SCORE'], label='Team 2 Score', marker='o')\n",
    "    plt.title(f'Score Progression for Game {game_id}')\n",
    "    plt.xlabel('Event Index')\n",
    "    plt.ylabel('Score')\n",
    "    plt.legend()\n",
    "    plt.grid()\n",
    "    plt.show()\n",
    "\n",
    "# Plot the scrore progression for the first game\n",
    "game_id_example = processed_data.select(\"GAME_ID\").first()[\"GAME_ID\"]\n",
    "plot_score_progression(processed_data, game_id_example)\n"
   ]
  },
  {
   "cell_type": "markdown",
   "metadata": {},
   "source": [
    "#### 2. Plot the best 10 players who scored the most points in the tournament."
   ]
  },
  {
   "cell_type": "code",
   "execution_count": 258,
   "metadata": {},
   "outputs": [
    {
     "name": "stderr",
     "output_type": "stream",
     "text": [
      "                                                                                \r"
     ]
    },
    {
     "data": {
      "image/png": "[encoded data removed]",
      "text/plain": [
       "<Figure size 1200x600 with 1 Axes>"
      ]
     },
     "metadata": {},
     "output_type": "display_data"
    }
   ],
   "source": [
    "def plot_player_involvement(data):\n",
    "    \"\"\"\n",
    "    Plot the top 10 players who score the most points.\n",
    "\n",
    "    Parameters:\n",
    "    - data: PySpark dataframe.\n",
    "    \"\"\"\n",
    "    # Handle missing values in PLAYER1_NAME coloumn\n",
    "    filtered_data = data.filter(data['PLAYER1_NAME'].isNotNull())\n",
    "\n",
    "    # Count occurrences of PLAYER1_NAME\n",
    "    player_counts = (\n",
    "        filtered_data.groupBy(\"PLAYER1_NAME\")\n",
    "        .count()\n",
    "        .orderBy(\"count\", ascending=False)\n",
    "        .limit(10)  # top 10 players\n",
    "        .toPandas()\n",
    "    )\n",
    "\n",
    "    # Plot the top 10 players\n",
    "    plt.figure(figsize=(12, 6))\n",
    "    plt.bar(player_counts['PLAYER1_NAME'], player_counts['count'], color='skyblue', edgecolor='black')\n",
    "    plt.title('Top 10 Players by Involvement')\n",
    "    plt.xlabel('Player Name')\n",
    "    plt.ylabel('Number of Appearances')\n",
    "    plt.xticks(rotation=45)\n",
    "    plt.grid(axis='y')\n",
    "    plt.show()\n",
    "\n",
    "# Plot the top 10 players\n",
    "plot_player_involvement(processed_data)"
   ]
  },
  {
   "cell_type": "markdown",
   "metadata": {},
   "source": [
    "#### 3. Plot the quater by quater score trends for the tournament."
   ]
  },
  {
   "cell_type": "code",
   "execution_count": 259,
   "metadata": {},
   "outputs": [
    {
     "name": "stderr",
     "output_type": "stream",
     "text": [
      "                                                                                \r"
     ]
    },
    {
     "data": {
      "image/png": "[encoded data removed]",
      "text/plain": [
       "<Figure size 1000x600 with 1 Axes>"
      ]
     },
     "metadata": {},
     "output_type": "display_data"
    }
   ],
   "source": [
    "from pyspark.sql.functions import sum as _sum\n",
    "import matplotlib.pyplot as plt\n",
    "\n",
    "def plot_quarter_trends(data):\n",
    "    \"\"\"\n",
    "    Plot quarter by quarter score trends as a stacked bar chart.\n",
    "\n",
    "    Parameters:\n",
    "    - data: PySpark dataframe.\n",
    "    \"\"\"\n",
    "    # Group by PERIOD and aggregate the scores\n",
    "    quarter_scores = (\n",
    "        data.groupBy(\"PERIOD\")\n",
    "        .agg(\n",
    "            _sum(\"TEAM1_SCORE\").alias(\"TEAM1_SCORE\"),\n",
    "            _sum(\"TEAM2_SCORE\").alias(\"TEAM2_SCORE\")\n",
    "        )\n",
    "        .orderBy(\"PERIOD\")  # quarters should be in order\n",
    "        .toPandas()  # Convert to pandas for plotting\n",
    "    )\n",
    "\n",
    "    # Plot the stacked bar chart\n",
    "    quarter_scores.plot(\n",
    "        x=\"PERIOD\",\n",
    "        kind=\"bar\",\n",
    "        stacked=True,\n",
    "        figsize=(10, 6),\n",
    "        colormap=\"viridis\",\n",
    "        edgecolor=\"black\"\n",
    "    )\n",
    "    plt.title(\"Quarter by Quarter Score Trends\")\n",
    "    plt.xlabel(\"Quarter\")\n",
    "    plt.ylabel(\"Total Score\")\n",
    "    plt.legend([\"Team 1 Score\", \"Team 2 Score\"])\n",
    "    plt.xticks(rotation=0)\n",
    "    plt.grid(axis=\"y\")\n",
    "    plt.show()\n",
    "\n",
    "# Plot quater by quater score trends\n",
    "plot_quarter_trends(processed_data)"
   ]
  },
  {
   "cell_type": "markdown",
   "metadata": {},
   "source": [
    "# 3. Model Building\n",
    "\n",
    "## Objective:\n",
    "\n",
    "* Predict the average points expected to be scored by a player in TeamA to win a match against TeamB.\n",
    "\n",
    "## Steps:\n",
    "\n",
    "1. Analyse the game history for Team A against Team B. \n",
    "\n",
    "2. Find the games that Team A has won against Team B. \n",
    "\n",
    "    a. Find the average total score that Team A scored in these games. Let’s say that score is called TeamA_Win_Match_Score.\n",
    "\n",
    "3. Find the games that Team A lost against Team B. \n",
    "\n",
    "    a. Find the average total score that Team B scored in these games.  Let’s say that score is called TeamB_Win_Match_Score.\n",
    "\n",
    "## Assumptions\n",
    "1. In a future match against Team A and Team B, if Team A has to win, then Team A should score more that TeamA_Win_Match_Score and TeamB_Win_Match_Score. That should be the predicted winning score for Team A. Let’s say that is called Predicted_TeamA_Winning_Score.\n",
    "\n",
    "2. Usually in a NBA game there are 15 player. To get the average score a player in Team A has to make, devide Predicted_TeamA_Winning_Score by 15.\n",
    "\n",
    "#### 1: Feature Engineering"
   ]
  },
  {
   "cell_type": "code",
   "execution_count": 260,
   "metadata": {},
   "outputs": [],
   "source": [
    "from pyspark.sql.functions import col, when, avg, lit\n",
    "\n",
    "def prepare_features(data, team_a, team_b):\n",
    "    \"\"\"\n",
    "    Prepate the features for model training and building.\n",
    "\n",
    "    Parameters:\n",
    "    - data: PySpark dataframe.\n",
    "    - team_a: Team A nickname\n",
    "    - team_b: Team B nickname\n",
    "\n",
    "    Returns:\n",
    "    - PySpark dataframe with filtered features.\n",
    "\n",
    "    \"\"\"\n",
    "    \n",
    "    # Filter the games between Team A and Team B\n",
    "    data = data.filter(\n",
    "        ((col(\"Team1_Name\") == team_a) & (col(\"Team2_Name\") == team_b)) |\n",
    "        ((col(\"Team1_Name\") == team_b) & (col(\"Team2_Name\") == team_a))\n",
    "    )\n",
    "\n",
    "    # Add a column indicating if Team A won\n",
    "    data = data.withColumn(\n",
    "        \"Team_A_Won\",\n",
    "        when(col(\"Winning_Team_Name\") == team_a, lit(1)).otherwise(lit(0))\n",
    "    )\n",
    "\n",
    "    # Add total points scored by Team A and Team B\n",
    "    data = data.withColumn(\n",
    "        \"Team_A_Score\", \n",
    "        when(col(\"Team1_Name\") == team_a, col(\"TEAM1_SCORE\")).otherwise(col(\"TEAM2_SCORE\"))\n",
    "    )\n",
    "    data = data.withColumn(\n",
    "        \"Team_B_Score\", \n",
    "        when(col(\"Team1_Name\") == team_b, col(\"TEAM1_SCORE\")).otherwise(col(\"TEAM2_SCORE\"))\n",
    "    )\n",
    "    return data"
   ]
  },
  {
   "cell_type": "markdown",
   "metadata": {},
   "source": [
    "#### 2. Prepare the Dataset"
   ]
  },
  {
   "cell_type": "code",
   "execution_count": 261,
   "metadata": {},
   "outputs": [
    {
     "name": "stdout",
     "output_type": "stream",
     "text": [
      "+--------+------+----------+----------------+---------------------+---------------+----------+-------------+---------------------+---------------+-----------+-----------+----------+----------+-----------------+------------------+----------+------------+------------+\n",
      "| GAME_ID|PERIOD|PLAYER1_ID|    PLAYER1_NAME|PLAYER1_TEAM_NICKNAME|PLAYER1_TEAM_ID|PLAYER2_ID| PLAYER2_NAME|PLAYER2_TEAM_NICKNAME|PLAYER2_TEAM_ID|TEAM1_SCORE|TEAM2_SCORE|Team1_Name|Team2_Name|Winning_Team_Name|Winning_Team_Score|Team_A_Won|Team_A_Score|Team_B_Score|\n",
      "+--------+------+----------+----------------+---------------------+---------------+----------+-------------+---------------------+---------------+-----------+-----------+----------+----------+-----------------+------------------+----------+------------+------------+\n",
      "|20000001|     1|       689|    Theo Ratliff|                76ers|  1.610612755E9|         0|         NULL|                 NULL|           NULL|          1|          0|     76ers|    Knicks|            76ers|               101|         1|           1|           0|\n",
      "|20000001|     1|       948|    Marcus Camby|               Knicks|  1.610612752E9|         0|         NULL|                 NULL|           NULL|          1|          1|     76ers|    Knicks|            76ers|               101|         1|           1|           1|\n",
      "|20000001|     1|       948|    Marcus Camby|               Knicks|  1.610612752E9|         0|         NULL|                 NULL|           NULL|          1|          2|     76ers|    Knicks|            76ers|               101|         1|           1|           2|\n",
      "|20000001|     1|       689|    Theo Ratliff|                76ers|  1.610612755E9|       248| George Lynch|                76ers|  1.610612755E9|          3|          2|     76ers|    Knicks|            76ers|               101|         1|           3|           2|\n",
      "|20000001|     1|       275|   Allan Houston|               Knicks|  1.610612752E9|       369| Charlie Ward|               Knicks|  1.610612752E9|          3|          4|     76ers|    Knicks|            76ers|               101|         1|           3|           4|\n",
      "|20000001|     1|       689|    Theo Ratliff|                76ers|  1.610612755E9|       248| George Lynch|                76ers|  1.610612755E9|          5|          4|     76ers|    Knicks|            76ers|               101|         1|           5|           4|\n",
      "|20000001|     1|       727|       Eric Snow|                76ers|  1.610612755E9|       947|Allen Iverson|                76ers|  1.610612755E9|          7|          4|     76ers|    Knicks|            76ers|               101|         1|           7|           4|\n",
      "|20000001|     1|       275|   Allan Houston|               Knicks|  1.610612752E9|       913|Larry Johnson|               Knicks|  1.610612752E9|          7|          7|     76ers|    Knicks|            76ers|               101|         1|           7|           7|\n",
      "|20000001|     1|       947|   Allen Iverson|                76ers|  1.610612755E9|       727|    Eric Snow|                76ers|  1.610612755E9|          9|          7|     76ers|    Knicks|            76ers|               101|         1|           9|           7|\n",
      "|20000001|     1|       275|   Allan Houston|               Knicks|  1.610612752E9|         0|         NULL|                 NULL|           NULL|          9|          9|     76ers|    Knicks|            76ers|               101|         1|           9|           9|\n",
      "|20000001|     1|       947|   Allen Iverson|                76ers|  1.610612755E9|         0|         NULL|                 NULL|           NULL|         10|          9|     76ers|    Knicks|            76ers|               101|         1|          10|           9|\n",
      "|20000001|     1|       947|   Allen Iverson|                76ers|  1.610612755E9|         0|         NULL|                 NULL|           NULL|         11|          9|     76ers|    Knicks|            76ers|               101|         1|          11|           9|\n",
      "|20000001|     1|       248|    George Lynch|                76ers|  1.610612755E9|       727|    Eric Snow|                76ers|  1.610612755E9|         13|          9|     76ers|    Knicks|            76ers|               101|         1|          13|           9|\n",
      "|20000001|     1|       913|   Larry Johnson|               Knicks|  1.610612752E9|       275|Allan Houston|               Knicks|  1.610612752E9|         13|         11|     76ers|    Knicks|            76ers|               101|         1|          13|          11|\n",
      "|20000001|     1|       369|    Charlie Ward|               Knicks|  1.610612752E9|       913|Larry Johnson|               Knicks|  1.610612752E9|         13|         13|     76ers|    Knicks|            76ers|               101|         1|          13|          13|\n",
      "|20000001|     1|        84|Latrell Sprewell|               Knicks|  1.610612752E9|         0|         NULL|                 NULL|           NULL|         13|         15|     76ers|    Knicks|            76ers|               101|         1|          13|          15|\n",
      "|20000001|     1|       947|   Allen Iverson|                76ers|  1.610612755E9|         0|         NULL|                 NULL|           NULL|         14|         15|     76ers|    Knicks|            76ers|               101|         1|          14|          15|\n",
      "|20000001|     1|       947|   Allen Iverson|                76ers|  1.610612755E9|         0|         NULL|                 NULL|           NULL|         15|         15|     76ers|    Knicks|            76ers|               101|         1|          15|          15|\n",
      "|20000001|     1|       727|       Eric Snow|                76ers|  1.610612755E9|         0|         NULL|                 NULL|           NULL|         17|         15|     76ers|    Knicks|            76ers|               101|         1|          17|          15|\n",
      "|20000001|     1|       727|       Eric Snow|                76ers|  1.610612755E9|         0|         NULL|                 NULL|           NULL|         18|         15|     76ers|    Knicks|            76ers|               101|         1|          18|          15|\n",
      "+--------+------+----------+----------------+---------------------+---------------+----------+-------------+---------------------+---------------+-----------+-----------+----------+----------+-----------------+------------------+----------+------------+------------+\n",
      "only showing top 20 rows\n",
      "\n"
     ]
    }
   ],
   "source": [
    "team_a = \"76ers\"\n",
    "team_b = \"Knicks\"\n",
    "\n",
    "# Get the featur extracted dataframe\n",
    "processed_data = prepare_features(processed_data, team_a, team_b)\n",
    "\n",
    "# Display the dataframe\n",
    "processed_data.show()"
   ]
  },
  {
   "cell_type": "markdown",
   "metadata": {},
   "source": [
    "#### 3: Define Features and Target"
   ]
  },
  {
   "cell_type": "code",
   "execution_count": null,
   "metadata": {},
   "outputs": [],
   "source": [
    "from pyspark.ml.feature import VectorAssembler\n",
    "\n",
    "feature_columns = [\"Team_B_Score\", \"Total_Points\"]\n",
    "assembler = VectorAssembler(inputCols=feature_columns, outputCol=\"features\")\n",
    "\n",
    "processed_data = processed_data.withColumn(\n",
    "    \"Total_Points\", col(\"Team_A_Score\") + col(\"Team_B_Score\")\n",
    ")\n",
    "processed_data = assembler.transform(processed_data)\n",
    "\n",
    "# Define the target variable: Team_A_Score\n",
    "processed_data = processed_data.withColumnRenamed(\"Team_A_Score\", \"label\")"
   ]
  },
  {
   "cell_type": "markdown",
   "metadata": {},
   "source": [
    "#### 4. Split the dataset into train and test.\n",
    "\n",
    "* Train dataset: 80% of the full dataset\n",
    "* Test dataset: 20% of the full dataset"
   ]
  },
  {
   "cell_type": "code",
   "execution_count": null,
   "metadata": {},
   "outputs": [
    {
     "name": "stderr",
     "output_type": "stream",
     "text": [
      "24/12/13 23:20:49 WARN Instrumentation: [77ec97bf] regParam is zero, which might cause numerical instability and overfitting.\n"
     ]
    }
   ],
   "source": [
    "from pyspark.ml.regression import LinearRegression\n",
    "\n",
    "# Split the dataset into training and testing\n",
    "train_data, test_data = processed_data.randomSplit([0.8, 0.2], seed=42)"
   ]
  },
  {
   "cell_type": "markdown",
   "metadata": {},
   "source": [
    "#### 5. Train the Regression Model\n",
    "\n",
    "Train the regression model with training data."
   ]
  },
  {
   "cell_type": "code",
   "execution_count": null,
   "metadata": {},
   "outputs": [],
   "source": [
    "lr = LinearRegression(featuresCol=\"features\", labelCol=\"label\", predictionCol=\"prediction\")\n",
    "lr_model = lr.fit(train_data)"
   ]
  },
  {
   "cell_type": "markdown",
   "metadata": {},
   "source": [
    "#### 6. Evaluate the Model\n",
    "\n",
    "Evaluate the model with test data."
   ]
  },
  {
   "cell_type": "code",
   "execution_count": null,
   "metadata": {},
   "outputs": [
    {
     "name": "stdout",
     "output_type": "stream",
     "text": [
      "Root Mean Squared Error (RMSE) on test data: 0.00\n"
     ]
    }
   ],
   "source": [
    "from pyspark.ml.evaluation import RegressionEvaluator\n",
    "\n",
    "# Evaluate with test data\n",
    "predictions = lr_model.transform(test_data)\n",
    "\n",
    "evaluator = RegressionEvaluator(\n",
    "    labelCol=\"label\", predictionCol=\"prediction\", metricName=\"rmse\"\n",
    ")\n",
    "\n",
    "# Calculate Root Mean Squared Error (RMSE)\n",
    "rmse = evaluator.evaluate(predictions)\n",
    "\n",
    "print(f\"Root Mean Squared Error (RMSE) on test data: {rmse:.2f}\")"
   ]
  },
  {
   "cell_type": "markdown",
   "metadata": {},
   "source": [
    "#### 7: Compute Predicted Average Points for Team A\n",
    "\n",
    "Let's calculate the predicted average total score for the Team A to win against Team B."
   ]
  },
  {
   "cell_type": "code",
   "execution_count": null,
   "metadata": {},
   "outputs": [
    {
     "name": "stdout",
     "output_type": "stream",
     "text": [
      "Predicted average points per player for 76ers to win: 4.00\n"
     ]
    }
   ],
   "source": [
    "from builtins import max \n",
    "import math\n",
    "\n",
    "# Calculate predicted average points for Team A to win\n",
    "team_a_win_match_score = processed_data.filter(col(\"Team_A_Won\") == 1).agg(avg(\"label\").alias(\"avg_score\")).collect()[0][0]\n",
    "team_b_win_match_score = processed_data.filter(col(\"Team_A_Won\") == 0).agg(avg(\"Team_B_Score\").alias(\"avg_score\")).collect()[0][0]\n",
    "\n",
    "predicted_team_a_winning_score = max(team_a_win_match_score, team_b_win_match_score)\n",
    "\n",
    "# Calculate the average points per player\n",
    "avg_points_per_player =int(math.ceil(predicted_team_a_winning_score / 15))\n",
    "\n",
    "# Output Results\n",
    "print(f\"Predicted average points per player for {team_a} to win: {avg_points_per_player:.2f}\")"
   ]
  }
 ],
 "metadata": {
  "kernelspec": {
   "display_name": "base",
   "language": "python",
   "name": "python3"
  },
  "language_info": {
   "codemirror_mode": {
    "name": "ipython",
    "version": 3
   },
   "file_extension": ".py",
   "mimetype": "text/x-python",
   "name": "python",
   "nbconvert_exporter": "python",
   "pygments_lexer": "ipython3",
   "version": "3.11.7"
  }
 },
 "nbformat": 4,
 "nbformat_minor": 2
}
